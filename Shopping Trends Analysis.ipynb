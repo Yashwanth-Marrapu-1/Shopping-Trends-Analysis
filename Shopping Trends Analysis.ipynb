{
 "cells": [
  {
   "cell_type": "markdown",
   "id": "435a949c",
   "metadata": {},
   "source": [
    "# Shopping Trends Analysis"
   ]
  },
  {
   "cell_type": "markdown",
   "id": "68914701",
   "metadata": {},
   "source": [
    "# Dataset Glossary (Column-wise) :\n",
    "\n",
    "Customer ID - Unique identifier for each customer\n",
    "\n",
    "Age - Age of the customer\n",
    "\n",
    "Gender - Gender of the customer (Male/Female)\n",
    "\n",
    "Item Purchased - The item purchased by the customer\n",
    "\n",
    "Category - Category of the item purchased\n",
    "\n",
    "Purchase Amount (USD) - The amount of the purchase in USD\n",
    "\n",
    "Location - Location where the purchase was made\n",
    "\n",
    "Size - Size of the purchased item\n",
    "\n",
    "Color - Color of the purchased item\n",
    "\n",
    "Season - Season during which the purchase was made\n",
    "\n",
    "Review Rating - Rating given by the customer for the purchased item\n",
    "\n",
    "Subscription Status - Indicates if the customer has a subscription (Yes/No)\n",
    "\n",
    "Shipping Type - Type of shipping chosen by the customer\n",
    "\n",
    "Discount Applied - Indicates if a discount was applied to the purchase (Yes/No)\n",
    "\n",
    "Promo Code Used - Indicates if a promo code was used for the purchase (Yes/No)\n",
    "\n",
    "Previous Purchases - The total count of transactions concluded by the customer at the store, excluding the ongoing transaction\n",
    "\n",
    "Payment Method - Customer's most preferred payment method\n",
    "\n",
    "Frequency of Purchases - Frequency at which the customer makes purchases (e.g., Weekly, Fortnightly, Monthly)"
   ]
  },
  {
   "cell_type": "markdown",
   "id": "2a51bc3f",
   "metadata": {},
   "source": [
    "# Importing Libraries"
   ]
  },
  {
   "cell_type": "code",
   "execution_count": 26,
   "id": "7dc520e2",
   "metadata": {},
   "outputs": [],
   "source": [
    "import pandas as pd\n",
    "import seaborn as sns\n",
    "import numpy as np\n",
    "import matplotlib.pyplot as plt"
   ]
  },
  {
   "cell_type": "markdown",
   "id": "1d86267e",
   "metadata": {},
   "source": [
    "# Loading the Dataset"
   ]
  },
  {
   "cell_type": "code",
   "execution_count": 3,
   "id": "143dd3f7",
   "metadata": {},
   "outputs": [
    {
     "data": {
      "text/html": [
       "<div>\n",
       "<style scoped>\n",
       "    .dataframe tbody tr th:only-of-type {\n",
       "        vertical-align: middle;\n",
       "    }\n",
       "\n",
       "    .dataframe tbody tr th {\n",
       "        vertical-align: top;\n",
       "    }\n",
       "\n",
       "    .dataframe thead th {\n",
       "        text-align: right;\n",
       "    }\n",
       "</style>\n",
       "<table border=\"1\" class=\"dataframe\">\n",
       "  <thead>\n",
       "    <tr style=\"text-align: right;\">\n",
       "      <th></th>\n",
       "      <th>Customer ID</th>\n",
       "      <th>Age</th>\n",
       "      <th>Gender</th>\n",
       "      <th>Item Purchased</th>\n",
       "      <th>Category</th>\n",
       "      <th>Purchase Amount (USD)</th>\n",
       "      <th>Location</th>\n",
       "      <th>Size</th>\n",
       "      <th>Color</th>\n",
       "      <th>Season</th>\n",
       "      <th>Review Rating</th>\n",
       "      <th>Subscription Status</th>\n",
       "      <th>Shipping Type</th>\n",
       "      <th>Discount Applied</th>\n",
       "      <th>Promo Code Used</th>\n",
       "      <th>Previous Purchases</th>\n",
       "      <th>Payment Method</th>\n",
       "      <th>Frequency of Purchases</th>\n",
       "    </tr>\n",
       "  </thead>\n",
       "  <tbody>\n",
       "    <tr>\n",
       "      <th>0</th>\n",
       "      <td>1</td>\n",
       "      <td>55</td>\n",
       "      <td>Male</td>\n",
       "      <td>Blouse</td>\n",
       "      <td>Clothing</td>\n",
       "      <td>53</td>\n",
       "      <td>Kentucky</td>\n",
       "      <td>L</td>\n",
       "      <td>Gray</td>\n",
       "      <td>Winter</td>\n",
       "      <td>3.1</td>\n",
       "      <td>Yes</td>\n",
       "      <td>Express</td>\n",
       "      <td>Yes</td>\n",
       "      <td>Yes</td>\n",
       "      <td>14</td>\n",
       "      <td>Venmo</td>\n",
       "      <td>Fortnightly</td>\n",
       "    </tr>\n",
       "    <tr>\n",
       "      <th>1</th>\n",
       "      <td>2</td>\n",
       "      <td>19</td>\n",
       "      <td>Male</td>\n",
       "      <td>Sweater</td>\n",
       "      <td>Clothing</td>\n",
       "      <td>64</td>\n",
       "      <td>Maine</td>\n",
       "      <td>L</td>\n",
       "      <td>Maroon</td>\n",
       "      <td>Winter</td>\n",
       "      <td>3.1</td>\n",
       "      <td>Yes</td>\n",
       "      <td>Express</td>\n",
       "      <td>Yes</td>\n",
       "      <td>Yes</td>\n",
       "      <td>2</td>\n",
       "      <td>Cash</td>\n",
       "      <td>Fortnightly</td>\n",
       "    </tr>\n",
       "    <tr>\n",
       "      <th>2</th>\n",
       "      <td>3</td>\n",
       "      <td>50</td>\n",
       "      <td>Male</td>\n",
       "      <td>Jeans</td>\n",
       "      <td>Clothing</td>\n",
       "      <td>73</td>\n",
       "      <td>Massachusetts</td>\n",
       "      <td>S</td>\n",
       "      <td>Maroon</td>\n",
       "      <td>Spring</td>\n",
       "      <td>3.1</td>\n",
       "      <td>Yes</td>\n",
       "      <td>Free Shipping</td>\n",
       "      <td>Yes</td>\n",
       "      <td>Yes</td>\n",
       "      <td>23</td>\n",
       "      <td>Credit Card</td>\n",
       "      <td>Weekly</td>\n",
       "    </tr>\n",
       "    <tr>\n",
       "      <th>3</th>\n",
       "      <td>4</td>\n",
       "      <td>21</td>\n",
       "      <td>Male</td>\n",
       "      <td>Sandals</td>\n",
       "      <td>Footwear</td>\n",
       "      <td>90</td>\n",
       "      <td>Rhode Island</td>\n",
       "      <td>M</td>\n",
       "      <td>Maroon</td>\n",
       "      <td>Spring</td>\n",
       "      <td>3.5</td>\n",
       "      <td>Yes</td>\n",
       "      <td>Next Day Air</td>\n",
       "      <td>Yes</td>\n",
       "      <td>Yes</td>\n",
       "      <td>49</td>\n",
       "      <td>PayPal</td>\n",
       "      <td>Weekly</td>\n",
       "    </tr>\n",
       "    <tr>\n",
       "      <th>4</th>\n",
       "      <td>5</td>\n",
       "      <td>45</td>\n",
       "      <td>Male</td>\n",
       "      <td>Blouse</td>\n",
       "      <td>Clothing</td>\n",
       "      <td>49</td>\n",
       "      <td>Oregon</td>\n",
       "      <td>M</td>\n",
       "      <td>Turquoise</td>\n",
       "      <td>Spring</td>\n",
       "      <td>2.7</td>\n",
       "      <td>Yes</td>\n",
       "      <td>Free Shipping</td>\n",
       "      <td>Yes</td>\n",
       "      <td>Yes</td>\n",
       "      <td>31</td>\n",
       "      <td>PayPal</td>\n",
       "      <td>Annually</td>\n",
       "    </tr>\n",
       "    <tr>\n",
       "      <th>...</th>\n",
       "      <td>...</td>\n",
       "      <td>...</td>\n",
       "      <td>...</td>\n",
       "      <td>...</td>\n",
       "      <td>...</td>\n",
       "      <td>...</td>\n",
       "      <td>...</td>\n",
       "      <td>...</td>\n",
       "      <td>...</td>\n",
       "      <td>...</td>\n",
       "      <td>...</td>\n",
       "      <td>...</td>\n",
       "      <td>...</td>\n",
       "      <td>...</td>\n",
       "      <td>...</td>\n",
       "      <td>...</td>\n",
       "      <td>...</td>\n",
       "      <td>...</td>\n",
       "    </tr>\n",
       "    <tr>\n",
       "      <th>3895</th>\n",
       "      <td>3896</td>\n",
       "      <td>40</td>\n",
       "      <td>Female</td>\n",
       "      <td>Hoodie</td>\n",
       "      <td>Clothing</td>\n",
       "      <td>28</td>\n",
       "      <td>Virginia</td>\n",
       "      <td>L</td>\n",
       "      <td>Turquoise</td>\n",
       "      <td>Summer</td>\n",
       "      <td>4.2</td>\n",
       "      <td>No</td>\n",
       "      <td>2-Day Shipping</td>\n",
       "      <td>No</td>\n",
       "      <td>No</td>\n",
       "      <td>32</td>\n",
       "      <td>Venmo</td>\n",
       "      <td>Weekly</td>\n",
       "    </tr>\n",
       "    <tr>\n",
       "      <th>3896</th>\n",
       "      <td>3897</td>\n",
       "      <td>52</td>\n",
       "      <td>Female</td>\n",
       "      <td>Backpack</td>\n",
       "      <td>Accessories</td>\n",
       "      <td>49</td>\n",
       "      <td>Iowa</td>\n",
       "      <td>L</td>\n",
       "      <td>White</td>\n",
       "      <td>Spring</td>\n",
       "      <td>4.5</td>\n",
       "      <td>No</td>\n",
       "      <td>Store Pickup</td>\n",
       "      <td>No</td>\n",
       "      <td>No</td>\n",
       "      <td>41</td>\n",
       "      <td>Bank Transfer</td>\n",
       "      <td>Bi-Weekly</td>\n",
       "    </tr>\n",
       "    <tr>\n",
       "      <th>3897</th>\n",
       "      <td>3898</td>\n",
       "      <td>46</td>\n",
       "      <td>Female</td>\n",
       "      <td>Belt</td>\n",
       "      <td>Accessories</td>\n",
       "      <td>33</td>\n",
       "      <td>New Jersey</td>\n",
       "      <td>L</td>\n",
       "      <td>Green</td>\n",
       "      <td>Spring</td>\n",
       "      <td>2.9</td>\n",
       "      <td>No</td>\n",
       "      <td>Standard</td>\n",
       "      <td>No</td>\n",
       "      <td>No</td>\n",
       "      <td>24</td>\n",
       "      <td>Venmo</td>\n",
       "      <td>Quarterly</td>\n",
       "    </tr>\n",
       "    <tr>\n",
       "      <th>3898</th>\n",
       "      <td>3899</td>\n",
       "      <td>44</td>\n",
       "      <td>Female</td>\n",
       "      <td>Shoes</td>\n",
       "      <td>Footwear</td>\n",
       "      <td>77</td>\n",
       "      <td>Minnesota</td>\n",
       "      <td>S</td>\n",
       "      <td>Brown</td>\n",
       "      <td>Summer</td>\n",
       "      <td>3.8</td>\n",
       "      <td>No</td>\n",
       "      <td>Express</td>\n",
       "      <td>No</td>\n",
       "      <td>No</td>\n",
       "      <td>24</td>\n",
       "      <td>Venmo</td>\n",
       "      <td>Weekly</td>\n",
       "    </tr>\n",
       "    <tr>\n",
       "      <th>3899</th>\n",
       "      <td>3900</td>\n",
       "      <td>52</td>\n",
       "      <td>Female</td>\n",
       "      <td>Handbag</td>\n",
       "      <td>Accessories</td>\n",
       "      <td>81</td>\n",
       "      <td>California</td>\n",
       "      <td>M</td>\n",
       "      <td>Beige</td>\n",
       "      <td>Spring</td>\n",
       "      <td>3.1</td>\n",
       "      <td>No</td>\n",
       "      <td>Store Pickup</td>\n",
       "      <td>No</td>\n",
       "      <td>No</td>\n",
       "      <td>33</td>\n",
       "      <td>Venmo</td>\n",
       "      <td>Quarterly</td>\n",
       "    </tr>\n",
       "  </tbody>\n",
       "</table>\n",
       "<p>3900 rows × 18 columns</p>\n",
       "</div>"
      ],
      "text/plain": [
       "      Customer ID  Age  Gender Item Purchased     Category  \\\n",
       "0               1   55    Male         Blouse     Clothing   \n",
       "1               2   19    Male        Sweater     Clothing   \n",
       "2               3   50    Male          Jeans     Clothing   \n",
       "3               4   21    Male        Sandals     Footwear   \n",
       "4               5   45    Male         Blouse     Clothing   \n",
       "...           ...  ...     ...            ...          ...   \n",
       "3895         3896   40  Female         Hoodie     Clothing   \n",
       "3896         3897   52  Female       Backpack  Accessories   \n",
       "3897         3898   46  Female           Belt  Accessories   \n",
       "3898         3899   44  Female          Shoes     Footwear   \n",
       "3899         3900   52  Female        Handbag  Accessories   \n",
       "\n",
       "      Purchase Amount (USD)       Location Size      Color  Season  \\\n",
       "0                        53       Kentucky    L       Gray  Winter   \n",
       "1                        64          Maine    L     Maroon  Winter   \n",
       "2                        73  Massachusetts    S     Maroon  Spring   \n",
       "3                        90   Rhode Island    M     Maroon  Spring   \n",
       "4                        49         Oregon    M  Turquoise  Spring   \n",
       "...                     ...            ...  ...        ...     ...   \n",
       "3895                     28       Virginia    L  Turquoise  Summer   \n",
       "3896                     49           Iowa    L      White  Spring   \n",
       "3897                     33     New Jersey    L      Green  Spring   \n",
       "3898                     77      Minnesota    S      Brown  Summer   \n",
       "3899                     81     California    M      Beige  Spring   \n",
       "\n",
       "      Review Rating Subscription Status   Shipping Type Discount Applied  \\\n",
       "0               3.1                 Yes         Express              Yes   \n",
       "1               3.1                 Yes         Express              Yes   \n",
       "2               3.1                 Yes   Free Shipping              Yes   \n",
       "3               3.5                 Yes    Next Day Air              Yes   \n",
       "4               2.7                 Yes   Free Shipping              Yes   \n",
       "...             ...                 ...             ...              ...   \n",
       "3895            4.2                  No  2-Day Shipping               No   \n",
       "3896            4.5                  No    Store Pickup               No   \n",
       "3897            2.9                  No        Standard               No   \n",
       "3898            3.8                  No         Express               No   \n",
       "3899            3.1                  No    Store Pickup               No   \n",
       "\n",
       "     Promo Code Used  Previous Purchases Payment Method Frequency of Purchases  \n",
       "0                Yes                  14          Venmo            Fortnightly  \n",
       "1                Yes                   2           Cash            Fortnightly  \n",
       "2                Yes                  23    Credit Card                 Weekly  \n",
       "3                Yes                  49         PayPal                 Weekly  \n",
       "4                Yes                  31         PayPal               Annually  \n",
       "...              ...                 ...            ...                    ...  \n",
       "3895              No                  32          Venmo                 Weekly  \n",
       "3896              No                  41  Bank Transfer              Bi-Weekly  \n",
       "3897              No                  24          Venmo              Quarterly  \n",
       "3898              No                  24          Venmo                 Weekly  \n",
       "3899              No                  33          Venmo              Quarterly  \n",
       "\n",
       "[3900 rows x 18 columns]"
      ]
     },
     "execution_count": 3,
     "metadata": {},
     "output_type": "execute_result"
    }
   ],
   "source": [
    "df = pd.read_csv(\"shopping_trends.csv\")\n",
    "df"
   ]
  },
  {
   "cell_type": "code",
   "execution_count": 4,
   "id": "fb56f44e",
   "metadata": {},
   "outputs": [
    {
     "data": {
      "text/html": [
       "<div>\n",
       "<style scoped>\n",
       "    .dataframe tbody tr th:only-of-type {\n",
       "        vertical-align: middle;\n",
       "    }\n",
       "\n",
       "    .dataframe tbody tr th {\n",
       "        vertical-align: top;\n",
       "    }\n",
       "\n",
       "    .dataframe thead th {\n",
       "        text-align: right;\n",
       "    }\n",
       "</style>\n",
       "<table border=\"1\" class=\"dataframe\">\n",
       "  <thead>\n",
       "    <tr style=\"text-align: right;\">\n",
       "      <th></th>\n",
       "      <th>Customer ID</th>\n",
       "      <th>Age</th>\n",
       "      <th>Gender</th>\n",
       "      <th>Item Purchased</th>\n",
       "      <th>Category</th>\n",
       "      <th>Purchase Amount (USD)</th>\n",
       "      <th>Location</th>\n",
       "      <th>Size</th>\n",
       "      <th>Color</th>\n",
       "      <th>Season</th>\n",
       "      <th>Review Rating</th>\n",
       "      <th>Subscription Status</th>\n",
       "      <th>Shipping Type</th>\n",
       "      <th>Discount Applied</th>\n",
       "      <th>Promo Code Used</th>\n",
       "      <th>Previous Purchases</th>\n",
       "      <th>Payment Method</th>\n",
       "      <th>Frequency of Purchases</th>\n",
       "    </tr>\n",
       "  </thead>\n",
       "  <tbody>\n",
       "    <tr>\n",
       "      <th>0</th>\n",
       "      <td>1</td>\n",
       "      <td>55</td>\n",
       "      <td>Male</td>\n",
       "      <td>Blouse</td>\n",
       "      <td>Clothing</td>\n",
       "      <td>53</td>\n",
       "      <td>Kentucky</td>\n",
       "      <td>L</td>\n",
       "      <td>Gray</td>\n",
       "      <td>Winter</td>\n",
       "      <td>3.1</td>\n",
       "      <td>Yes</td>\n",
       "      <td>Express</td>\n",
       "      <td>Yes</td>\n",
       "      <td>Yes</td>\n",
       "      <td>14</td>\n",
       "      <td>Venmo</td>\n",
       "      <td>Fortnightly</td>\n",
       "    </tr>\n",
       "    <tr>\n",
       "      <th>1</th>\n",
       "      <td>2</td>\n",
       "      <td>19</td>\n",
       "      <td>Male</td>\n",
       "      <td>Sweater</td>\n",
       "      <td>Clothing</td>\n",
       "      <td>64</td>\n",
       "      <td>Maine</td>\n",
       "      <td>L</td>\n",
       "      <td>Maroon</td>\n",
       "      <td>Winter</td>\n",
       "      <td>3.1</td>\n",
       "      <td>Yes</td>\n",
       "      <td>Express</td>\n",
       "      <td>Yes</td>\n",
       "      <td>Yes</td>\n",
       "      <td>2</td>\n",
       "      <td>Cash</td>\n",
       "      <td>Fortnightly</td>\n",
       "    </tr>\n",
       "    <tr>\n",
       "      <th>2</th>\n",
       "      <td>3</td>\n",
       "      <td>50</td>\n",
       "      <td>Male</td>\n",
       "      <td>Jeans</td>\n",
       "      <td>Clothing</td>\n",
       "      <td>73</td>\n",
       "      <td>Massachusetts</td>\n",
       "      <td>S</td>\n",
       "      <td>Maroon</td>\n",
       "      <td>Spring</td>\n",
       "      <td>3.1</td>\n",
       "      <td>Yes</td>\n",
       "      <td>Free Shipping</td>\n",
       "      <td>Yes</td>\n",
       "      <td>Yes</td>\n",
       "      <td>23</td>\n",
       "      <td>Credit Card</td>\n",
       "      <td>Weekly</td>\n",
       "    </tr>\n",
       "    <tr>\n",
       "      <th>3</th>\n",
       "      <td>4</td>\n",
       "      <td>21</td>\n",
       "      <td>Male</td>\n",
       "      <td>Sandals</td>\n",
       "      <td>Footwear</td>\n",
       "      <td>90</td>\n",
       "      <td>Rhode Island</td>\n",
       "      <td>M</td>\n",
       "      <td>Maroon</td>\n",
       "      <td>Spring</td>\n",
       "      <td>3.5</td>\n",
       "      <td>Yes</td>\n",
       "      <td>Next Day Air</td>\n",
       "      <td>Yes</td>\n",
       "      <td>Yes</td>\n",
       "      <td>49</td>\n",
       "      <td>PayPal</td>\n",
       "      <td>Weekly</td>\n",
       "    </tr>\n",
       "    <tr>\n",
       "      <th>4</th>\n",
       "      <td>5</td>\n",
       "      <td>45</td>\n",
       "      <td>Male</td>\n",
       "      <td>Blouse</td>\n",
       "      <td>Clothing</td>\n",
       "      <td>49</td>\n",
       "      <td>Oregon</td>\n",
       "      <td>M</td>\n",
       "      <td>Turquoise</td>\n",
       "      <td>Spring</td>\n",
       "      <td>2.7</td>\n",
       "      <td>Yes</td>\n",
       "      <td>Free Shipping</td>\n",
       "      <td>Yes</td>\n",
       "      <td>Yes</td>\n",
       "      <td>31</td>\n",
       "      <td>PayPal</td>\n",
       "      <td>Annually</td>\n",
       "    </tr>\n",
       "    <tr>\n",
       "      <th>5</th>\n",
       "      <td>6</td>\n",
       "      <td>46</td>\n",
       "      <td>Male</td>\n",
       "      <td>Sneakers</td>\n",
       "      <td>Footwear</td>\n",
       "      <td>20</td>\n",
       "      <td>Wyoming</td>\n",
       "      <td>M</td>\n",
       "      <td>White</td>\n",
       "      <td>Summer</td>\n",
       "      <td>2.9</td>\n",
       "      <td>Yes</td>\n",
       "      <td>Standard</td>\n",
       "      <td>Yes</td>\n",
       "      <td>Yes</td>\n",
       "      <td>14</td>\n",
       "      <td>Venmo</td>\n",
       "      <td>Weekly</td>\n",
       "    </tr>\n",
       "  </tbody>\n",
       "</table>\n",
       "</div>"
      ],
      "text/plain": [
       "   Customer ID  Age Gender Item Purchased  Category  Purchase Amount (USD)  \\\n",
       "0            1   55   Male         Blouse  Clothing                     53   \n",
       "1            2   19   Male        Sweater  Clothing                     64   \n",
       "2            3   50   Male          Jeans  Clothing                     73   \n",
       "3            4   21   Male        Sandals  Footwear                     90   \n",
       "4            5   45   Male         Blouse  Clothing                     49   \n",
       "5            6   46   Male       Sneakers  Footwear                     20   \n",
       "\n",
       "        Location Size      Color  Season  Review Rating Subscription Status  \\\n",
       "0       Kentucky    L       Gray  Winter            3.1                 Yes   \n",
       "1          Maine    L     Maroon  Winter            3.1                 Yes   \n",
       "2  Massachusetts    S     Maroon  Spring            3.1                 Yes   \n",
       "3   Rhode Island    M     Maroon  Spring            3.5                 Yes   \n",
       "4         Oregon    M  Turquoise  Spring            2.7                 Yes   \n",
       "5        Wyoming    M      White  Summer            2.9                 Yes   \n",
       "\n",
       "   Shipping Type Discount Applied Promo Code Used  Previous Purchases  \\\n",
       "0        Express              Yes             Yes                  14   \n",
       "1        Express              Yes             Yes                   2   \n",
       "2  Free Shipping              Yes             Yes                  23   \n",
       "3   Next Day Air              Yes             Yes                  49   \n",
       "4  Free Shipping              Yes             Yes                  31   \n",
       "5       Standard              Yes             Yes                  14   \n",
       "\n",
       "  Payment Method Frequency of Purchases  \n",
       "0          Venmo            Fortnightly  \n",
       "1           Cash            Fortnightly  \n",
       "2    Credit Card                 Weekly  \n",
       "3         PayPal                 Weekly  \n",
       "4         PayPal               Annually  \n",
       "5          Venmo                 Weekly  "
      ]
     },
     "execution_count": 4,
     "metadata": {},
     "output_type": "execute_result"
    }
   ],
   "source": [
    "df.head(6)"
   ]
  },
  {
   "cell_type": "code",
   "execution_count": 5,
   "id": "0d7d8fd6",
   "metadata": {},
   "outputs": [
    {
     "data": {
      "text/html": [
       "<div>\n",
       "<style scoped>\n",
       "    .dataframe tbody tr th:only-of-type {\n",
       "        vertical-align: middle;\n",
       "    }\n",
       "\n",
       "    .dataframe tbody tr th {\n",
       "        vertical-align: top;\n",
       "    }\n",
       "\n",
       "    .dataframe thead th {\n",
       "        text-align: right;\n",
       "    }\n",
       "</style>\n",
       "<table border=\"1\" class=\"dataframe\">\n",
       "  <thead>\n",
       "    <tr style=\"text-align: right;\">\n",
       "      <th></th>\n",
       "      <th>Customer ID</th>\n",
       "      <th>Age</th>\n",
       "      <th>Gender</th>\n",
       "      <th>Item Purchased</th>\n",
       "      <th>Category</th>\n",
       "      <th>Purchase Amount (USD)</th>\n",
       "      <th>Location</th>\n",
       "      <th>Size</th>\n",
       "      <th>Color</th>\n",
       "      <th>Season</th>\n",
       "      <th>Review Rating</th>\n",
       "      <th>Subscription Status</th>\n",
       "      <th>Shipping Type</th>\n",
       "      <th>Discount Applied</th>\n",
       "      <th>Promo Code Used</th>\n",
       "      <th>Previous Purchases</th>\n",
       "      <th>Payment Method</th>\n",
       "      <th>Frequency of Purchases</th>\n",
       "    </tr>\n",
       "  </thead>\n",
       "  <tbody>\n",
       "    <tr>\n",
       "      <th>3896</th>\n",
       "      <td>3897</td>\n",
       "      <td>52</td>\n",
       "      <td>Female</td>\n",
       "      <td>Backpack</td>\n",
       "      <td>Accessories</td>\n",
       "      <td>49</td>\n",
       "      <td>Iowa</td>\n",
       "      <td>L</td>\n",
       "      <td>White</td>\n",
       "      <td>Spring</td>\n",
       "      <td>4.5</td>\n",
       "      <td>No</td>\n",
       "      <td>Store Pickup</td>\n",
       "      <td>No</td>\n",
       "      <td>No</td>\n",
       "      <td>41</td>\n",
       "      <td>Bank Transfer</td>\n",
       "      <td>Bi-Weekly</td>\n",
       "    </tr>\n",
       "    <tr>\n",
       "      <th>3897</th>\n",
       "      <td>3898</td>\n",
       "      <td>46</td>\n",
       "      <td>Female</td>\n",
       "      <td>Belt</td>\n",
       "      <td>Accessories</td>\n",
       "      <td>33</td>\n",
       "      <td>New Jersey</td>\n",
       "      <td>L</td>\n",
       "      <td>Green</td>\n",
       "      <td>Spring</td>\n",
       "      <td>2.9</td>\n",
       "      <td>No</td>\n",
       "      <td>Standard</td>\n",
       "      <td>No</td>\n",
       "      <td>No</td>\n",
       "      <td>24</td>\n",
       "      <td>Venmo</td>\n",
       "      <td>Quarterly</td>\n",
       "    </tr>\n",
       "    <tr>\n",
       "      <th>3898</th>\n",
       "      <td>3899</td>\n",
       "      <td>44</td>\n",
       "      <td>Female</td>\n",
       "      <td>Shoes</td>\n",
       "      <td>Footwear</td>\n",
       "      <td>77</td>\n",
       "      <td>Minnesota</td>\n",
       "      <td>S</td>\n",
       "      <td>Brown</td>\n",
       "      <td>Summer</td>\n",
       "      <td>3.8</td>\n",
       "      <td>No</td>\n",
       "      <td>Express</td>\n",
       "      <td>No</td>\n",
       "      <td>No</td>\n",
       "      <td>24</td>\n",
       "      <td>Venmo</td>\n",
       "      <td>Weekly</td>\n",
       "    </tr>\n",
       "    <tr>\n",
       "      <th>3899</th>\n",
       "      <td>3900</td>\n",
       "      <td>52</td>\n",
       "      <td>Female</td>\n",
       "      <td>Handbag</td>\n",
       "      <td>Accessories</td>\n",
       "      <td>81</td>\n",
       "      <td>California</td>\n",
       "      <td>M</td>\n",
       "      <td>Beige</td>\n",
       "      <td>Spring</td>\n",
       "      <td>3.1</td>\n",
       "      <td>No</td>\n",
       "      <td>Store Pickup</td>\n",
       "      <td>No</td>\n",
       "      <td>No</td>\n",
       "      <td>33</td>\n",
       "      <td>Venmo</td>\n",
       "      <td>Quarterly</td>\n",
       "    </tr>\n",
       "  </tbody>\n",
       "</table>\n",
       "</div>"
      ],
      "text/plain": [
       "      Customer ID  Age  Gender Item Purchased     Category  \\\n",
       "3896         3897   52  Female       Backpack  Accessories   \n",
       "3897         3898   46  Female           Belt  Accessories   \n",
       "3898         3899   44  Female          Shoes     Footwear   \n",
       "3899         3900   52  Female        Handbag  Accessories   \n",
       "\n",
       "      Purchase Amount (USD)    Location Size  Color  Season  Review Rating  \\\n",
       "3896                     49        Iowa    L  White  Spring            4.5   \n",
       "3897                     33  New Jersey    L  Green  Spring            2.9   \n",
       "3898                     77   Minnesota    S  Brown  Summer            3.8   \n",
       "3899                     81  California    M  Beige  Spring            3.1   \n",
       "\n",
       "     Subscription Status Shipping Type Discount Applied Promo Code Used  \\\n",
       "3896                  No  Store Pickup               No              No   \n",
       "3897                  No      Standard               No              No   \n",
       "3898                  No       Express               No              No   \n",
       "3899                  No  Store Pickup               No              No   \n",
       "\n",
       "      Previous Purchases Payment Method Frequency of Purchases  \n",
       "3896                  41  Bank Transfer              Bi-Weekly  \n",
       "3897                  24          Venmo              Quarterly  \n",
       "3898                  24          Venmo                 Weekly  \n",
       "3899                  33          Venmo              Quarterly  "
      ]
     },
     "execution_count": 5,
     "metadata": {},
     "output_type": "execute_result"
    }
   ],
   "source": [
    "df.tail(4)"
   ]
  },
  {
   "cell_type": "markdown",
   "id": "b1db65b4",
   "metadata": {},
   "source": [
    "# Shape of the Dataset"
   ]
  },
  {
   "cell_type": "code",
   "execution_count": 6,
   "id": "b67fb999",
   "metadata": {},
   "outputs": [
    {
     "data": {
      "text/plain": [
       "(3900, 18)"
      ]
     },
     "execution_count": 6,
     "metadata": {},
     "output_type": "execute_result"
    }
   ],
   "source": [
    "df.shape"
   ]
  },
  {
   "cell_type": "code",
   "execution_count": 7,
   "id": "392f0516",
   "metadata": {},
   "outputs": [
    {
     "data": {
      "text/plain": [
       "Customer ID                 int64\n",
       "Age                         int64\n",
       "Gender                     object\n",
       "Item Purchased             object\n",
       "Category                   object\n",
       "Purchase Amount (USD)       int64\n",
       "Location                   object\n",
       "Size                       object\n",
       "Color                      object\n",
       "Season                     object\n",
       "Review Rating             float64\n",
       "Subscription Status        object\n",
       "Shipping Type              object\n",
       "Discount Applied           object\n",
       "Promo Code Used            object\n",
       "Previous Purchases          int64\n",
       "Payment Method             object\n",
       "Frequency of Purchases     object\n",
       "dtype: object"
      ]
     },
     "execution_count": 7,
     "metadata": {},
     "output_type": "execute_result"
    }
   ],
   "source": [
    "df.dtypes"
   ]
  },
  {
   "cell_type": "markdown",
   "id": "f239c2cb",
   "metadata": {},
   "source": [
    "# Columns in the Dataset"
   ]
  },
  {
   "cell_type": "code",
   "execution_count": 8,
   "id": "b4cfe6d2",
   "metadata": {},
   "outputs": [
    {
     "data": {
      "text/plain": [
       "Index(['Customer ID', 'Age', 'Gender', 'Item Purchased', 'Category',\n",
       "       'Purchase Amount (USD)', 'Location', 'Size', 'Color', 'Season',\n",
       "       'Review Rating', 'Subscription Status', 'Shipping Type',\n",
       "       'Discount Applied', 'Promo Code Used', 'Previous Purchases',\n",
       "       'Payment Method', 'Frequency of Purchases'],\n",
       "      dtype='object')"
      ]
     },
     "execution_count": 8,
     "metadata": {},
     "output_type": "execute_result"
    }
   ],
   "source": [
    "df.columns"
   ]
  },
  {
   "cell_type": "markdown",
   "id": "b6e4ca3b",
   "metadata": {},
   "source": [
    "# Information about the Dataset"
   ]
  },
  {
   "cell_type": "code",
   "execution_count": 9,
   "id": "7dfc7dec",
   "metadata": {},
   "outputs": [
    {
     "name": "stdout",
     "output_type": "stream",
     "text": [
      "<class 'pandas.core.frame.DataFrame'>\n",
      "RangeIndex: 3900 entries, 0 to 3899\n",
      "Data columns (total 18 columns):\n",
      " #   Column                  Non-Null Count  Dtype  \n",
      "---  ------                  --------------  -----  \n",
      " 0   Customer ID             3900 non-null   int64  \n",
      " 1   Age                     3900 non-null   int64  \n",
      " 2   Gender                  3900 non-null   object \n",
      " 3   Item Purchased          3900 non-null   object \n",
      " 4   Category                3900 non-null   object \n",
      " 5   Purchase Amount (USD)   3900 non-null   int64  \n",
      " 6   Location                3900 non-null   object \n",
      " 7   Size                    3900 non-null   object \n",
      " 8   Color                   3900 non-null   object \n",
      " 9   Season                  3900 non-null   object \n",
      " 10  Review Rating           3900 non-null   float64\n",
      " 11  Subscription Status     3900 non-null   object \n",
      " 12  Shipping Type           3900 non-null   object \n",
      " 13  Discount Applied        3900 non-null   object \n",
      " 14  Promo Code Used         3900 non-null   object \n",
      " 15  Previous Purchases      3900 non-null   int64  \n",
      " 16  Payment Method          3900 non-null   object \n",
      " 17  Frequency of Purchases  3900 non-null   object \n",
      "dtypes: float64(1), int64(4), object(13)\n",
      "memory usage: 548.6+ KB\n"
     ]
    }
   ],
   "source": [
    "df.info()"
   ]
  },
  {
   "cell_type": "code",
   "execution_count": 10,
   "id": "152974aa",
   "metadata": {},
   "outputs": [
    {
     "data": {
      "text/html": [
       "<div>\n",
       "<style scoped>\n",
       "    .dataframe tbody tr th:only-of-type {\n",
       "        vertical-align: middle;\n",
       "    }\n",
       "\n",
       "    .dataframe tbody tr th {\n",
       "        vertical-align: top;\n",
       "    }\n",
       "\n",
       "    .dataframe thead th {\n",
       "        text-align: right;\n",
       "    }\n",
       "</style>\n",
       "<table border=\"1\" class=\"dataframe\">\n",
       "  <thead>\n",
       "    <tr style=\"text-align: right;\">\n",
       "      <th></th>\n",
       "      <th>Customer ID</th>\n",
       "      <th>Age</th>\n",
       "      <th>Purchase Amount (USD)</th>\n",
       "      <th>Review Rating</th>\n",
       "      <th>Previous Purchases</th>\n",
       "    </tr>\n",
       "  </thead>\n",
       "  <tbody>\n",
       "    <tr>\n",
       "      <th>count</th>\n",
       "      <td>3900.000000</td>\n",
       "      <td>3900.000000</td>\n",
       "      <td>3900.000000</td>\n",
       "      <td>3900.000000</td>\n",
       "      <td>3900.000000</td>\n",
       "    </tr>\n",
       "    <tr>\n",
       "      <th>mean</th>\n",
       "      <td>1950.500000</td>\n",
       "      <td>44.068462</td>\n",
       "      <td>59.764359</td>\n",
       "      <td>3.749949</td>\n",
       "      <td>25.351538</td>\n",
       "    </tr>\n",
       "    <tr>\n",
       "      <th>std</th>\n",
       "      <td>1125.977353</td>\n",
       "      <td>15.207589</td>\n",
       "      <td>23.685392</td>\n",
       "      <td>0.716223</td>\n",
       "      <td>14.447125</td>\n",
       "    </tr>\n",
       "    <tr>\n",
       "      <th>min</th>\n",
       "      <td>1.000000</td>\n",
       "      <td>18.000000</td>\n",
       "      <td>20.000000</td>\n",
       "      <td>2.500000</td>\n",
       "      <td>1.000000</td>\n",
       "    </tr>\n",
       "    <tr>\n",
       "      <th>25%</th>\n",
       "      <td>975.750000</td>\n",
       "      <td>31.000000</td>\n",
       "      <td>39.000000</td>\n",
       "      <td>3.100000</td>\n",
       "      <td>13.000000</td>\n",
       "    </tr>\n",
       "    <tr>\n",
       "      <th>50%</th>\n",
       "      <td>1950.500000</td>\n",
       "      <td>44.000000</td>\n",
       "      <td>60.000000</td>\n",
       "      <td>3.700000</td>\n",
       "      <td>25.000000</td>\n",
       "    </tr>\n",
       "    <tr>\n",
       "      <th>75%</th>\n",
       "      <td>2925.250000</td>\n",
       "      <td>57.000000</td>\n",
       "      <td>81.000000</td>\n",
       "      <td>4.400000</td>\n",
       "      <td>38.000000</td>\n",
       "    </tr>\n",
       "    <tr>\n",
       "      <th>max</th>\n",
       "      <td>3900.000000</td>\n",
       "      <td>70.000000</td>\n",
       "      <td>100.000000</td>\n",
       "      <td>5.000000</td>\n",
       "      <td>50.000000</td>\n",
       "    </tr>\n",
       "  </tbody>\n",
       "</table>\n",
       "</div>"
      ],
      "text/plain": [
       "       Customer ID          Age  Purchase Amount (USD)  Review Rating  \\\n",
       "count  3900.000000  3900.000000            3900.000000    3900.000000   \n",
       "mean   1950.500000    44.068462              59.764359       3.749949   \n",
       "std    1125.977353    15.207589              23.685392       0.716223   \n",
       "min       1.000000    18.000000              20.000000       2.500000   \n",
       "25%     975.750000    31.000000              39.000000       3.100000   \n",
       "50%    1950.500000    44.000000              60.000000       3.700000   \n",
       "75%    2925.250000    57.000000              81.000000       4.400000   \n",
       "max    3900.000000    70.000000             100.000000       5.000000   \n",
       "\n",
       "       Previous Purchases  \n",
       "count         3900.000000  \n",
       "mean            25.351538  \n",
       "std             14.447125  \n",
       "min              1.000000  \n",
       "25%             13.000000  \n",
       "50%             25.000000  \n",
       "75%             38.000000  \n",
       "max             50.000000  "
      ]
     },
     "execution_count": 10,
     "metadata": {},
     "output_type": "execute_result"
    }
   ],
   "source": [
    "df.describe()"
   ]
  },
  {
   "cell_type": "markdown",
   "id": "14743128",
   "metadata": {},
   "source": [
    "# Checking if there are any null values present in the dataset or not ?"
   ]
  },
  {
   "cell_type": "code",
   "execution_count": 11,
   "id": "3d8949a5",
   "metadata": {},
   "outputs": [
    {
     "data": {
      "text/plain": [
       "Customer ID               0\n",
       "Age                       0\n",
       "Gender                    0\n",
       "Item Purchased            0\n",
       "Category                  0\n",
       "Purchase Amount (USD)     0\n",
       "Location                  0\n",
       "Size                      0\n",
       "Color                     0\n",
       "Season                    0\n",
       "Review Rating             0\n",
       "Subscription Status       0\n",
       "Shipping Type             0\n",
       "Discount Applied          0\n",
       "Promo Code Used           0\n",
       "Previous Purchases        0\n",
       "Payment Method            0\n",
       "Frequency of Purchases    0\n",
       "dtype: int64"
      ]
     },
     "execution_count": 11,
     "metadata": {},
     "output_type": "execute_result"
    }
   ],
   "source": [
    "df.isnull().sum()"
   ]
  },
  {
   "cell_type": "markdown",
   "id": "4ace637d",
   "metadata": {},
   "source": [
    "# Checking if there are any duplicate values present in the dataset or not ?"
   ]
  },
  {
   "cell_type": "code",
   "execution_count": 12,
   "id": "26e2751a",
   "metadata": {},
   "outputs": [
    {
     "data": {
      "text/plain": [
       "0"
      ]
     },
     "execution_count": 12,
     "metadata": {},
     "output_type": "execute_result"
    }
   ],
   "source": [
    "df.duplicated().sum()"
   ]
  },
  {
   "cell_type": "markdown",
   "id": "06b4e98b",
   "metadata": {},
   "source": [
    "# Number of unique values of each column"
   ]
  },
  {
   "cell_type": "code",
   "execution_count": 13,
   "id": "8fff2026",
   "metadata": {},
   "outputs": [
    {
     "data": {
      "text/plain": [
       "Customer ID               3900\n",
       "Age                         53\n",
       "Gender                       2\n",
       "Item Purchased              25\n",
       "Category                     4\n",
       "Purchase Amount (USD)       81\n",
       "Location                    50\n",
       "Size                         4\n",
       "Color                       25\n",
       "Season                       4\n",
       "Review Rating               26\n",
       "Subscription Status          2\n",
       "Shipping Type                6\n",
       "Discount Applied             2\n",
       "Promo Code Used              2\n",
       "Previous Purchases          50\n",
       "Payment Method               6\n",
       "Frequency of Purchases       7\n",
       "dtype: int64"
      ]
     },
     "execution_count": 13,
     "metadata": {},
     "output_type": "execute_result"
    }
   ],
   "source": [
    "df.nunique()"
   ]
  },
  {
   "cell_type": "code",
   "execution_count": 14,
   "id": "f9a9a494",
   "metadata": {},
   "outputs": [
    {
     "data": {
      "text/plain": [
       "Male      2652\n",
       "Female    1248\n",
       "Name: Gender, dtype: int64"
      ]
     },
     "execution_count": 14,
     "metadata": {},
     "output_type": "execute_result"
    }
   ],
   "source": [
    "df[\"Gender\"].value_counts()"
   ]
  },
  {
   "cell_type": "code",
   "execution_count": 15,
   "id": "7876f1a4",
   "metadata": {},
   "outputs": [
    {
     "data": {
      "text/plain": [
       "Clothing       1737\n",
       "Accessories    1240\n",
       "Footwear        599\n",
       "Outerwear       324\n",
       "Name: Category, dtype: int64"
      ]
     },
     "execution_count": 15,
     "metadata": {},
     "output_type": "execute_result"
    }
   ],
   "source": [
    "df[\"Category\"].value_counts()"
   ]
  },
  {
   "cell_type": "code",
   "execution_count": 16,
   "id": "0c1efd4a",
   "metadata": {},
   "outputs": [
    {
     "data": {
      "text/plain": [
       "Blouse        171\n",
       "Jewelry       171\n",
       "Pants         171\n",
       "Shirt         169\n",
       "Dress         166\n",
       "Sweater       164\n",
       "Jacket        163\n",
       "Belt          161\n",
       "Sunglasses    161\n",
       "Coat          161\n",
       "Sandals       160\n",
       "Socks         159\n",
       "Skirt         158\n",
       "Shorts        157\n",
       "Scarf         157\n",
       "Hat           154\n",
       "Handbag       153\n",
       "Hoodie        151\n",
       "Shoes         150\n",
       "T-shirt       147\n",
       "Sneakers      145\n",
       "Boots         144\n",
       "Backpack      143\n",
       "Gloves        140\n",
       "Jeans         124\n",
       "Name: Item Purchased, dtype: int64"
      ]
     },
     "execution_count": 16,
     "metadata": {},
     "output_type": "execute_result"
    }
   ],
   "source": [
    "df['Item Purchased'].value_counts()"
   ]
  },
  {
   "cell_type": "markdown",
   "id": "9ef5302b",
   "metadata": {},
   "source": [
    "# Average age of customers"
   ]
  },
  {
   "cell_type": "code",
   "execution_count": 17,
   "id": "efccd548",
   "metadata": {},
   "outputs": [
    {
     "name": "stdout",
     "output_type": "stream",
     "text": [
      "Average Age: 44.06846153846154\n"
     ]
    }
   ],
   "source": [
    "average_age = df[\"Age\"].mean()\n",
    "print(\"Average Age:\", average_age)"
   ]
  },
  {
   "cell_type": "markdown",
   "id": "db06f36d",
   "metadata": {},
   "source": [
    "# Most common item purchased"
   ]
  },
  {
   "cell_type": "code",
   "execution_count": 18,
   "id": "daf0e172",
   "metadata": {},
   "outputs": [
    {
     "name": "stdout",
     "output_type": "stream",
     "text": [
      "Most Common Item Purchased: 0     Blouse\n",
      "1    Jewelry\n",
      "2      Pants\n",
      "dtype: object\n"
     ]
    }
   ],
   "source": [
    "most_common_item = df['Item Purchased'].mode()\n",
    "print(\"Most Common Item Purchased:\", most_common_item)"
   ]
  },
  {
   "cell_type": "markdown",
   "id": "d7199644",
   "metadata": {},
   "source": [
    "# Total purchase amount for each category"
   ]
  },
  {
   "cell_type": "code",
   "execution_count": 19,
   "id": "600f1afe",
   "metadata": {},
   "outputs": [
    {
     "name": "stdout",
     "output_type": "stream",
     "text": [
      "Total Purchase Amount by Category:\n",
      "Category\n",
      "Accessories     74200\n",
      "Clothing       104264\n",
      "Footwear        36093\n",
      "Outerwear       18524\n",
      "Name: Purchase Amount (USD), dtype: int64\n"
     ]
    }
   ],
   "source": [
    "total_purchase_by_category = df.groupby('Category')['Purchase Amount (USD)'].sum()\n",
    "print(\"Total Purchase Amount by Category:\")\n",
    "print(total_purchase_by_category)"
   ]
  },
  {
   "cell_type": "markdown",
   "id": "52bd5fd6",
   "metadata": {},
   "source": [
    "# Average review rating for male customers and female customers"
   ]
  },
  {
   "cell_type": "code",
   "execution_count": 20,
   "id": "b1b5b0cb",
   "metadata": {},
   "outputs": [
    {
     "name": "stdout",
     "output_type": "stream",
     "text": [
      "Average Review Rating for Male Customers: 3.753959276018097\n",
      "Average Review Rating for Female Customers: 3.7414262820512842\n"
     ]
    }
   ],
   "source": [
    "average_rating_male = df[df['Gender'] == 'Male']['Review Rating'].mean()\n",
    "average_rating_female = df[df['Gender'] == 'Female']['Review Rating'].mean()\n",
    "print(\"Average Review Rating for Male Customers:\", average_rating_male)\n",
    "print(\"Average Review Rating for Female Customers:\", average_rating_female)"
   ]
  },
  {
   "cell_type": "markdown",
   "id": "c6d43f7c",
   "metadata": {},
   "source": [
    "# Most common payment method used by customers "
   ]
  },
  {
   "cell_type": "code",
   "execution_count": 21,
   "id": "bf077e9c",
   "metadata": {},
   "outputs": [
    {
     "name": "stdout",
     "output_type": "stream",
     "text": [
      "Most Common Payment Method: PayPal\n"
     ]
    }
   ],
   "source": [
    "most_common_payment_method = df['Payment Method'].mode()[0]\n",
    "print(\"Most Common Payment Method:\", most_common_payment_method)"
   ]
  },
  {
   "cell_type": "markdown",
   "id": "96cef3e9",
   "metadata": {},
   "source": [
    "# Median purchase amount (USD)"
   ]
  },
  {
   "cell_type": "code",
   "execution_count": 22,
   "id": "28630499",
   "metadata": {},
   "outputs": [
    {
     "name": "stdout",
     "output_type": "stream",
     "text": [
      "Median Purchase Amount (USD): 60.0\n"
     ]
    }
   ],
   "source": [
    "median_purchase_amount = df['Purchase Amount (USD)'].median()\n",
    "print(\"Median Purchase Amount (USD):\", median_purchase_amount)"
   ]
  },
  {
   "cell_type": "markdown",
   "id": "8203223a",
   "metadata": {},
   "source": [
    "# How many customers have opted for the Subscription"
   ]
  },
  {
   "cell_type": "code",
   "execution_count": 23,
   "id": "84740a8f",
   "metadata": {},
   "outputs": [
    {
     "name": "stdout",
     "output_type": "stream",
     "text": [
      "Number of Customers with Subscription:  1053\n"
     ]
    }
   ],
   "source": [
    "subscription_count = df[df['Subscription Status'] == 'Yes']['Customer ID'].count()\n",
    "print(\"Number of Customers with Subscription: \", subscription_count)"
   ]
  },
  {
   "cell_type": "markdown",
   "id": "2106d332",
   "metadata": {},
   "source": [
    "# Average purchase amount for customers with a subscription status of 'Yes' and 'No' "
   ]
  },
  {
   "cell_type": "code",
   "execution_count": 24,
   "id": "5a2a2804",
   "metadata": {},
   "outputs": [
    {
     "name": "stdout",
     "output_type": "stream",
     "text": [
      "Average Purchase Amount for Subscription 'Yes': 59.49192782526116\n",
      "Average Purchase Amount for Subscription 'No': 59.865121180189675\n"
     ]
    }
   ],
   "source": [
    "avg_purchase_subscription_yes = df[df['Subscription Status'] == 'Yes']['Purchase Amount (USD)'].mean()\n",
    "avg_purchase_subscription_no = df[df['Subscription Status'] == 'No']['Purchase Amount (USD)'].mean()\n",
    "print(\"Average Purchase Amount for Subscription 'Yes':\", avg_purchase_subscription_yes)\n",
    "print(\"Average Purchase Amount for Subscription 'No':\", avg_purchase_subscription_no)"
   ]
  },
  {
   "cell_type": "markdown",
   "id": "6e58ee8e",
   "metadata": {},
   "source": [
    "# Average age of males and females who purchased from each category"
   ]
  },
  {
   "cell_type": "code",
   "execution_count": 27,
   "id": "b9c5d7d2",
   "metadata": {},
   "outputs": [
    {
     "data": {
      "text/html": [
       "<div>\n",
       "<style scoped>\n",
       "    .dataframe tbody tr th:only-of-type {\n",
       "        vertical-align: middle;\n",
       "    }\n",
       "\n",
       "    .dataframe tbody tr th {\n",
       "        vertical-align: top;\n",
       "    }\n",
       "\n",
       "    .dataframe thead th {\n",
       "        text-align: right;\n",
       "    }\n",
       "</style>\n",
       "<table border=\"1\" class=\"dataframe\">\n",
       "  <thead>\n",
       "    <tr style=\"text-align: right;\">\n",
       "      <th>Category</th>\n",
       "      <th>Accessories</th>\n",
       "      <th>Clothing</th>\n",
       "      <th>Footwear</th>\n",
       "      <th>Outerwear</th>\n",
       "    </tr>\n",
       "    <tr>\n",
       "      <th>Gender</th>\n",
       "      <th></th>\n",
       "      <th></th>\n",
       "      <th></th>\n",
       "      <th></th>\n",
       "    </tr>\n",
       "  </thead>\n",
       "  <tbody>\n",
       "    <tr>\n",
       "      <th>Female</th>\n",
       "      <td>44.283163</td>\n",
       "      <td>43.620504</td>\n",
       "      <td>44.482412</td>\n",
       "      <td>44.128713</td>\n",
       "    </tr>\n",
       "    <tr>\n",
       "      <th>Male</th>\n",
       "      <td>44.196934</td>\n",
       "      <td>43.859441</td>\n",
       "      <td>44.422500</td>\n",
       "      <td>44.394619</td>\n",
       "    </tr>\n",
       "  </tbody>\n",
       "</table>\n",
       "</div>"
      ],
      "text/plain": [
       "Category  Accessories   Clothing   Footwear  Outerwear\n",
       "Gender                                                \n",
       "Female      44.283163  43.620504  44.482412  44.128713\n",
       "Male        44.196934  43.859441  44.422500  44.394619"
      ]
     },
     "execution_count": 27,
     "metadata": {},
     "output_type": "execute_result"
    }
   ],
   "source": [
    "pd.crosstab(df['Gender'], df['Category'], values=df['Age'],aggfunc=np.average)"
   ]
  },
  {
   "cell_type": "markdown",
   "id": "ac7f8d69",
   "metadata": {},
   "source": [
    "# Number of items purchased from each category"
   ]
  },
  {
   "cell_type": "code",
   "execution_count": 28,
   "id": "a5281830",
   "metadata": {},
   "outputs": [
    {
     "data": {
      "text/html": [
       "<div>\n",
       "<style scoped>\n",
       "    .dataframe tbody tr th:only-of-type {\n",
       "        vertical-align: middle;\n",
       "    }\n",
       "\n",
       "    .dataframe tbody tr th {\n",
       "        vertical-align: top;\n",
       "    }\n",
       "\n",
       "    .dataframe thead th {\n",
       "        text-align: right;\n",
       "    }\n",
       "</style>\n",
       "<table border=\"1\" class=\"dataframe\">\n",
       "  <thead>\n",
       "    <tr style=\"text-align: right;\">\n",
       "      <th>Category</th>\n",
       "      <th>Accessories</th>\n",
       "      <th>Clothing</th>\n",
       "      <th>Footwear</th>\n",
       "      <th>Outerwear</th>\n",
       "    </tr>\n",
       "    <tr>\n",
       "      <th>Item Purchased</th>\n",
       "      <th></th>\n",
       "      <th></th>\n",
       "      <th></th>\n",
       "      <th></th>\n",
       "    </tr>\n",
       "  </thead>\n",
       "  <tbody>\n",
       "    <tr>\n",
       "      <th>Backpack</th>\n",
       "      <td>143</td>\n",
       "      <td>0</td>\n",
       "      <td>0</td>\n",
       "      <td>0</td>\n",
       "    </tr>\n",
       "    <tr>\n",
       "      <th>Belt</th>\n",
       "      <td>161</td>\n",
       "      <td>0</td>\n",
       "      <td>0</td>\n",
       "      <td>0</td>\n",
       "    </tr>\n",
       "    <tr>\n",
       "      <th>Blouse</th>\n",
       "      <td>0</td>\n",
       "      <td>171</td>\n",
       "      <td>0</td>\n",
       "      <td>0</td>\n",
       "    </tr>\n",
       "    <tr>\n",
       "      <th>Boots</th>\n",
       "      <td>0</td>\n",
       "      <td>0</td>\n",
       "      <td>144</td>\n",
       "      <td>0</td>\n",
       "    </tr>\n",
       "    <tr>\n",
       "      <th>Coat</th>\n",
       "      <td>0</td>\n",
       "      <td>0</td>\n",
       "      <td>0</td>\n",
       "      <td>161</td>\n",
       "    </tr>\n",
       "    <tr>\n",
       "      <th>Dress</th>\n",
       "      <td>0</td>\n",
       "      <td>166</td>\n",
       "      <td>0</td>\n",
       "      <td>0</td>\n",
       "    </tr>\n",
       "    <tr>\n",
       "      <th>Gloves</th>\n",
       "      <td>140</td>\n",
       "      <td>0</td>\n",
       "      <td>0</td>\n",
       "      <td>0</td>\n",
       "    </tr>\n",
       "    <tr>\n",
       "      <th>Handbag</th>\n",
       "      <td>153</td>\n",
       "      <td>0</td>\n",
       "      <td>0</td>\n",
       "      <td>0</td>\n",
       "    </tr>\n",
       "    <tr>\n",
       "      <th>Hat</th>\n",
       "      <td>154</td>\n",
       "      <td>0</td>\n",
       "      <td>0</td>\n",
       "      <td>0</td>\n",
       "    </tr>\n",
       "    <tr>\n",
       "      <th>Hoodie</th>\n",
       "      <td>0</td>\n",
       "      <td>151</td>\n",
       "      <td>0</td>\n",
       "      <td>0</td>\n",
       "    </tr>\n",
       "    <tr>\n",
       "      <th>Jacket</th>\n",
       "      <td>0</td>\n",
       "      <td>0</td>\n",
       "      <td>0</td>\n",
       "      <td>163</td>\n",
       "    </tr>\n",
       "    <tr>\n",
       "      <th>Jeans</th>\n",
       "      <td>0</td>\n",
       "      <td>124</td>\n",
       "      <td>0</td>\n",
       "      <td>0</td>\n",
       "    </tr>\n",
       "    <tr>\n",
       "      <th>Jewelry</th>\n",
       "      <td>171</td>\n",
       "      <td>0</td>\n",
       "      <td>0</td>\n",
       "      <td>0</td>\n",
       "    </tr>\n",
       "    <tr>\n",
       "      <th>Pants</th>\n",
       "      <td>0</td>\n",
       "      <td>171</td>\n",
       "      <td>0</td>\n",
       "      <td>0</td>\n",
       "    </tr>\n",
       "    <tr>\n",
       "      <th>Sandals</th>\n",
       "      <td>0</td>\n",
       "      <td>0</td>\n",
       "      <td>160</td>\n",
       "      <td>0</td>\n",
       "    </tr>\n",
       "    <tr>\n",
       "      <th>Scarf</th>\n",
       "      <td>157</td>\n",
       "      <td>0</td>\n",
       "      <td>0</td>\n",
       "      <td>0</td>\n",
       "    </tr>\n",
       "    <tr>\n",
       "      <th>Shirt</th>\n",
       "      <td>0</td>\n",
       "      <td>169</td>\n",
       "      <td>0</td>\n",
       "      <td>0</td>\n",
       "    </tr>\n",
       "    <tr>\n",
       "      <th>Shoes</th>\n",
       "      <td>0</td>\n",
       "      <td>0</td>\n",
       "      <td>150</td>\n",
       "      <td>0</td>\n",
       "    </tr>\n",
       "    <tr>\n",
       "      <th>Shorts</th>\n",
       "      <td>0</td>\n",
       "      <td>157</td>\n",
       "      <td>0</td>\n",
       "      <td>0</td>\n",
       "    </tr>\n",
       "    <tr>\n",
       "      <th>Skirt</th>\n",
       "      <td>0</td>\n",
       "      <td>158</td>\n",
       "      <td>0</td>\n",
       "      <td>0</td>\n",
       "    </tr>\n",
       "    <tr>\n",
       "      <th>Sneakers</th>\n",
       "      <td>0</td>\n",
       "      <td>0</td>\n",
       "      <td>145</td>\n",
       "      <td>0</td>\n",
       "    </tr>\n",
       "    <tr>\n",
       "      <th>Socks</th>\n",
       "      <td>0</td>\n",
       "      <td>159</td>\n",
       "      <td>0</td>\n",
       "      <td>0</td>\n",
       "    </tr>\n",
       "    <tr>\n",
       "      <th>Sunglasses</th>\n",
       "      <td>161</td>\n",
       "      <td>0</td>\n",
       "      <td>0</td>\n",
       "      <td>0</td>\n",
       "    </tr>\n",
       "    <tr>\n",
       "      <th>Sweater</th>\n",
       "      <td>0</td>\n",
       "      <td>164</td>\n",
       "      <td>0</td>\n",
       "      <td>0</td>\n",
       "    </tr>\n",
       "    <tr>\n",
       "      <th>T-shirt</th>\n",
       "      <td>0</td>\n",
       "      <td>147</td>\n",
       "      <td>0</td>\n",
       "      <td>0</td>\n",
       "    </tr>\n",
       "  </tbody>\n",
       "</table>\n",
       "</div>"
      ],
      "text/plain": [
       "Category        Accessories  Clothing  Footwear  Outerwear\n",
       "Item Purchased                                            \n",
       "Backpack                143         0         0          0\n",
       "Belt                    161         0         0          0\n",
       "Blouse                    0       171         0          0\n",
       "Boots                     0         0       144          0\n",
       "Coat                      0         0         0        161\n",
       "Dress                     0       166         0          0\n",
       "Gloves                  140         0         0          0\n",
       "Handbag                 153         0         0          0\n",
       "Hat                     154         0         0          0\n",
       "Hoodie                    0       151         0          0\n",
       "Jacket                    0         0         0        163\n",
       "Jeans                     0       124         0          0\n",
       "Jewelry                 171         0         0          0\n",
       "Pants                     0       171         0          0\n",
       "Sandals                   0         0       160          0\n",
       "Scarf                   157         0         0          0\n",
       "Shirt                     0       169         0          0\n",
       "Shoes                     0         0       150          0\n",
       "Shorts                    0       157         0          0\n",
       "Skirt                     0       158         0          0\n",
       "Sneakers                  0         0       145          0\n",
       "Socks                     0       159         0          0\n",
       "Sunglasses              161         0         0          0\n",
       "Sweater                   0       164         0          0\n",
       "T-shirt                   0       147         0          0"
      ]
     },
     "execution_count": 28,
     "metadata": {},
     "output_type": "execute_result"
    }
   ],
   "source": [
    "pd.crosstab(df['Category'],df['Item Purchased']).T"
   ]
  },
  {
   "cell_type": "markdown",
   "id": "dd1784f8",
   "metadata": {},
   "source": [
    "# Maximum and minimum review rating "
   ]
  },
  {
   "cell_type": "code",
   "execution_count": 29,
   "id": "85c6731d",
   "metadata": {},
   "outputs": [
    {
     "name": "stdout",
     "output_type": "stream",
     "text": [
      "Maximum Review Rating: 5.0\n",
      "Minimum Review Rating: 2.5\n"
     ]
    }
   ],
   "source": [
    "max_review_rating = df['Review Rating'].max()\n",
    "min_review_rating = df['Review Rating'].min()\n",
    "print(\"Maximum Review Rating:\", max_review_rating)\n",
    "print(\"Minimum Review Rating:\", min_review_rating)"
   ]
  },
  {
   "cell_type": "code",
   "execution_count": 30,
   "id": "a258e5d7",
   "metadata": {},
   "outputs": [
    {
     "data": {
      "text/plain": [
       "array(['Clothing', 'Footwear', 'Outerwear', 'Accessories'], dtype=object)"
      ]
     },
     "execution_count": 30,
     "metadata": {},
     "output_type": "execute_result"
    }
   ],
   "source": [
    "Category = df['Category'].unique()\n",
    "Category"
   ]
  },
  {
   "cell_type": "code",
   "execution_count": 31,
   "id": "e3bd4275",
   "metadata": {},
   "outputs": [
    {
     "data": {
      "text/plain": [
       "Olive     177\n",
       "Yellow    174\n",
       "Silver    173\n",
       "Teal      172\n",
       "Green     169\n",
       "Name: Color, dtype: int64"
      ]
     },
     "execution_count": 31,
     "metadata": {},
     "output_type": "execute_result"
    }
   ],
   "source": [
    "df['Color'].value_counts().nlargest(5)"
   ]
  },
  {
   "cell_type": "code",
   "execution_count": 32,
   "id": "f3f5af22",
   "metadata": {},
   "outputs": [
    {
     "data": {
      "text/plain": [
       "Location\n",
       "Alaska            67.597222\n",
       "Pennsylvania      66.567568\n",
       "Arizona           66.553846\n",
       "West Virginia     63.876543\n",
       "Nevada            63.379310\n",
       "Washington        63.328767\n",
       "North Dakota      62.891566\n",
       "Virginia          62.883117\n",
       "Utah              62.577465\n",
       "Michigan          62.095890\n",
       "Tennessee         61.974026\n",
       "New Mexico        61.901235\n",
       "Rhode Island      61.444444\n",
       "Texas             61.194805\n",
       "Arkansas          61.113924\n",
       "Illinois          61.054348\n",
       "Mississippi       61.037500\n",
       "Massachusetts     60.888889\n",
       "Iowa              60.884058\n",
       "North Carolina    60.794872\n",
       "Wyoming           60.690141\n",
       "South Dakota      60.514286\n",
       "New York          60.425287\n",
       "Ohio              60.376623\n",
       "Montana           60.250000\n",
       "Idaho             60.075269\n",
       "Nebraska          59.448276\n",
       "New Hampshire     59.422535\n",
       "Alabama           59.112360\n",
       "California        59.000000\n",
       "Indiana           58.924051\n",
       "Georgia           58.797468\n",
       "South Carolina    58.407895\n",
       "Oklahoma          58.346667\n",
       "Missouri          57.913580\n",
       "Hawaii            57.723077\n",
       "Louisiana         57.714286\n",
       "Oregon            57.337838\n",
       "Vermont           57.176471\n",
       "Maine             56.987013\n",
       "New Jersey        56.746269\n",
       "Minnesota         56.556818\n",
       "Colorado          56.293333\n",
       "Wisconsin         55.946667\n",
       "Florida           55.852941\n",
       "Maryland          55.755814\n",
       "Kentucky          55.721519\n",
       "Delaware          55.325581\n",
       "Kansas            54.555556\n",
       "Connecticut       54.179487\n",
       "Name: Purchase Amount (USD), dtype: float64"
      ]
     },
     "execution_count": 32,
     "metadata": {},
     "output_type": "execute_result"
    }
   ],
   "source": [
    "df.groupby('Location')['Purchase Amount (USD)'].mean().sort_values(ascending = False)"
   ]
  },
  {
   "cell_type": "code",
   "execution_count": 33,
   "id": "11907e9f",
   "metadata": {},
   "outputs": [],
   "source": [
    "# we are cutting the age into some category and storing in the different column\n",
    "df['Age_category'] = pd.cut(df['Age'], bins= [0,15, 18 , 30 , 50 , 70] , labels= ['child' , 'teen' , 'Young Adults' ,'Middle-Aged Adults'\n",
    "                                                                                             , 'old'] )"
   ]
  },
  {
   "cell_type": "code",
   "execution_count": 34,
   "id": "dd107196",
   "metadata": {},
   "outputs": [
    {
     "data": {
      "text/html": [
       "<div>\n",
       "<style scoped>\n",
       "    .dataframe tbody tr th:only-of-type {\n",
       "        vertical-align: middle;\n",
       "    }\n",
       "\n",
       "    .dataframe tbody tr th {\n",
       "        vertical-align: top;\n",
       "    }\n",
       "\n",
       "    .dataframe thead th {\n",
       "        text-align: right;\n",
       "    }\n",
       "</style>\n",
       "<table border=\"1\" class=\"dataframe\">\n",
       "  <thead>\n",
       "    <tr style=\"text-align: right;\">\n",
       "      <th></th>\n",
       "      <th>Customer ID</th>\n",
       "      <th>Age</th>\n",
       "      <th>Gender</th>\n",
       "      <th>Item Purchased</th>\n",
       "      <th>Category</th>\n",
       "      <th>Purchase Amount (USD)</th>\n",
       "      <th>Location</th>\n",
       "      <th>Size</th>\n",
       "      <th>Color</th>\n",
       "      <th>Season</th>\n",
       "      <th>Review Rating</th>\n",
       "      <th>Subscription Status</th>\n",
       "      <th>Shipping Type</th>\n",
       "      <th>Discount Applied</th>\n",
       "      <th>Promo Code Used</th>\n",
       "      <th>Previous Purchases</th>\n",
       "      <th>Payment Method</th>\n",
       "      <th>Frequency of Purchases</th>\n",
       "      <th>Age_category</th>\n",
       "    </tr>\n",
       "  </thead>\n",
       "  <tbody>\n",
       "    <tr>\n",
       "      <th>0</th>\n",
       "      <td>1</td>\n",
       "      <td>55</td>\n",
       "      <td>Male</td>\n",
       "      <td>Blouse</td>\n",
       "      <td>Clothing</td>\n",
       "      <td>53</td>\n",
       "      <td>Kentucky</td>\n",
       "      <td>L</td>\n",
       "      <td>Gray</td>\n",
       "      <td>Winter</td>\n",
       "      <td>3.1</td>\n",
       "      <td>Yes</td>\n",
       "      <td>Express</td>\n",
       "      <td>Yes</td>\n",
       "      <td>Yes</td>\n",
       "      <td>14</td>\n",
       "      <td>Venmo</td>\n",
       "      <td>Fortnightly</td>\n",
       "      <td>old</td>\n",
       "    </tr>\n",
       "    <tr>\n",
       "      <th>1</th>\n",
       "      <td>2</td>\n",
       "      <td>19</td>\n",
       "      <td>Male</td>\n",
       "      <td>Sweater</td>\n",
       "      <td>Clothing</td>\n",
       "      <td>64</td>\n",
       "      <td>Maine</td>\n",
       "      <td>L</td>\n",
       "      <td>Maroon</td>\n",
       "      <td>Winter</td>\n",
       "      <td>3.1</td>\n",
       "      <td>Yes</td>\n",
       "      <td>Express</td>\n",
       "      <td>Yes</td>\n",
       "      <td>Yes</td>\n",
       "      <td>2</td>\n",
       "      <td>Cash</td>\n",
       "      <td>Fortnightly</td>\n",
       "      <td>Young Adults</td>\n",
       "    </tr>\n",
       "    <tr>\n",
       "      <th>2</th>\n",
       "      <td>3</td>\n",
       "      <td>50</td>\n",
       "      <td>Male</td>\n",
       "      <td>Jeans</td>\n",
       "      <td>Clothing</td>\n",
       "      <td>73</td>\n",
       "      <td>Massachusetts</td>\n",
       "      <td>S</td>\n",
       "      <td>Maroon</td>\n",
       "      <td>Spring</td>\n",
       "      <td>3.1</td>\n",
       "      <td>Yes</td>\n",
       "      <td>Free Shipping</td>\n",
       "      <td>Yes</td>\n",
       "      <td>Yes</td>\n",
       "      <td>23</td>\n",
       "      <td>Credit Card</td>\n",
       "      <td>Weekly</td>\n",
       "      <td>Middle-Aged Adults</td>\n",
       "    </tr>\n",
       "    <tr>\n",
       "      <th>3</th>\n",
       "      <td>4</td>\n",
       "      <td>21</td>\n",
       "      <td>Male</td>\n",
       "      <td>Sandals</td>\n",
       "      <td>Footwear</td>\n",
       "      <td>90</td>\n",
       "      <td>Rhode Island</td>\n",
       "      <td>M</td>\n",
       "      <td>Maroon</td>\n",
       "      <td>Spring</td>\n",
       "      <td>3.5</td>\n",
       "      <td>Yes</td>\n",
       "      <td>Next Day Air</td>\n",
       "      <td>Yes</td>\n",
       "      <td>Yes</td>\n",
       "      <td>49</td>\n",
       "      <td>PayPal</td>\n",
       "      <td>Weekly</td>\n",
       "      <td>Young Adults</td>\n",
       "    </tr>\n",
       "    <tr>\n",
       "      <th>4</th>\n",
       "      <td>5</td>\n",
       "      <td>45</td>\n",
       "      <td>Male</td>\n",
       "      <td>Blouse</td>\n",
       "      <td>Clothing</td>\n",
       "      <td>49</td>\n",
       "      <td>Oregon</td>\n",
       "      <td>M</td>\n",
       "      <td>Turquoise</td>\n",
       "      <td>Spring</td>\n",
       "      <td>2.7</td>\n",
       "      <td>Yes</td>\n",
       "      <td>Free Shipping</td>\n",
       "      <td>Yes</td>\n",
       "      <td>Yes</td>\n",
       "      <td>31</td>\n",
       "      <td>PayPal</td>\n",
       "      <td>Annually</td>\n",
       "      <td>Middle-Aged Adults</td>\n",
       "    </tr>\n",
       "  </tbody>\n",
       "</table>\n",
       "</div>"
      ],
      "text/plain": [
       "   Customer ID  Age Gender Item Purchased  Category  Purchase Amount (USD)  \\\n",
       "0            1   55   Male         Blouse  Clothing                     53   \n",
       "1            2   19   Male        Sweater  Clothing                     64   \n",
       "2            3   50   Male          Jeans  Clothing                     73   \n",
       "3            4   21   Male        Sandals  Footwear                     90   \n",
       "4            5   45   Male         Blouse  Clothing                     49   \n",
       "\n",
       "        Location Size      Color  Season  Review Rating Subscription Status  \\\n",
       "0       Kentucky    L       Gray  Winter            3.1                 Yes   \n",
       "1          Maine    L     Maroon  Winter            3.1                 Yes   \n",
       "2  Massachusetts    S     Maroon  Spring            3.1                 Yes   \n",
       "3   Rhode Island    M     Maroon  Spring            3.5                 Yes   \n",
       "4         Oregon    M  Turquoise  Spring            2.7                 Yes   \n",
       "\n",
       "   Shipping Type Discount Applied Promo Code Used  Previous Purchases  \\\n",
       "0        Express              Yes             Yes                  14   \n",
       "1        Express              Yes             Yes                   2   \n",
       "2  Free Shipping              Yes             Yes                  23   \n",
       "3   Next Day Air              Yes             Yes                  49   \n",
       "4  Free Shipping              Yes             Yes                  31   \n",
       "\n",
       "  Payment Method Frequency of Purchases        Age_category  \n",
       "0          Venmo            Fortnightly                 old  \n",
       "1           Cash            Fortnightly        Young Adults  \n",
       "2    Credit Card                 Weekly  Middle-Aged Adults  \n",
       "3         PayPal                 Weekly        Young Adults  \n",
       "4         PayPal               Annually  Middle-Aged Adults  "
      ]
     },
     "execution_count": 34,
     "metadata": {},
     "output_type": "execute_result"
    }
   ],
   "source": [
    "df.head(5)"
   ]
  },
  {
   "cell_type": "code",
   "execution_count": 35,
   "id": "dbc5729d",
   "metadata": {},
   "outputs": [
    {
     "data": {
      "image/png": "[encoded data removed]",
      "text/plain": [
       "<Figure size 2000x800 with 1 Axes>"
      ]
     },
     "metadata": {
      "needs_background": "light"
     },
     "output_type": "display_data"
    }
   ],
   "source": [
    "plt.subplots(figsize=(20,8), dpi=100)\n",
    "sns.countplot(data= df, x='Item Purchased',palette='cool')\n",
    "plt.title(\"Item Purchased\",fontsize=20)\n",
    "plt.show()"
   ]
  },
  {
   "cell_type": "markdown",
   "id": "cd074916",
   "metadata": {},
   "source": [
    "The most sold Item are Blouse, Jewelry and Pants."
   ]
  },
  {
   "cell_type": "code",
   "execution_count": 36,
   "id": "372e0c54",
   "metadata": {},
   "outputs": [
    {
     "data": {
      "text/plain": [
       "Clothing       1737\n",
       "Accessories    1240\n",
       "Footwear        599\n",
       "Outerwear       324\n",
       "Name: Category, dtype: int64"
      ]
     },
     "execution_count": 36,
     "metadata": {},
     "output_type": "execute_result"
    }
   ],
   "source": [
    "CountOfCategory = df['Category'].value_counts()\n",
    "CountOfCategory"
   ]
  },
  {
   "cell_type": "code",
   "execution_count": 37,
   "id": "8754c003",
   "metadata": {},
   "outputs": [
    {
     "data": {
      "image/png": "[encoded data removed]",
      "text/plain": [
       "<Figure size 576x576 with 1 Axes>"
      ]
     },
     "metadata": {},
     "output_type": "display_data"
    }
   ],
   "source": [
    "plt.figure(figsize=(8,8))\n",
    "plt.pie(CountOfCategory,labels=CountOfCategory.index,autopct='%0.0f%%',explode=(0,0.1,0.1,0.1))\n",
    "plt.legend(CountOfCategory.index,loc =1)\n",
    "plt.show()"
   ]
  },
  {
   "cell_type": "markdown",
   "id": "ebfe45a4",
   "metadata": {},
   "source": [
    "Most types of Category of the item purchased are Clothing and Accessories."
   ]
  },
  {
   "cell_type": "code",
   "execution_count": 38,
   "id": "276e0506",
   "metadata": {},
   "outputs": [
    {
     "data": {
      "image/png": "[encoded data removed]",
      "text/plain": [
       "<Figure size 720x576 with 1 Axes>"
      ]
     },
     "metadata": {
      "needs_background": "light"
     },
     "output_type": "display_data"
    }
   ],
   "source": [
    "top_10_Location = df.Location.value_counts().sort_values(ascending=False)[:10]\n",
    "plt.figure(figsize=(10, 8))\n",
    "sns.barplot(x=top_10_Location, y=top_10_Location.index,palette='cool',linewidth = 4)\n",
    "plt.title('Top10 The Most Location where the purchase was made',loc='center',fontweight='bold',fontsize=12)\n",
    "plt.xlabel('Frequency',fontsize=15)\n",
    "plt.ylabel('Location',fontsize=15)\n",
    "plt.tight_layout()\n",
    "plt.show()"
   ]
  },
  {
   "cell_type": "code",
   "execution_count": 39,
   "id": "db806638",
   "metadata": {},
   "outputs": [
    {
     "data": {
      "text/plain": [
       "M     1755\n",
       "L     1053\n",
       "S      663\n",
       "XL     429\n",
       "Name: Size, dtype: int64"
      ]
     },
     "execution_count": 39,
     "metadata": {},
     "output_type": "execute_result"
    }
   ],
   "source": [
    "size_count = df['Size'].value_counts()\n",
    "size_count"
   ]
  },
  {
   "cell_type": "code",
   "execution_count": 40,
   "id": "ab40cc5a",
   "metadata": {},
   "outputs": [
    {
     "data": {
      "image/png": "[encoded data removed]",
      "text/plain": [
       "<Figure size 576x576 with 1 Axes>"
      ]
     },
     "metadata": {},
     "output_type": "display_data"
    }
   ],
   "source": [
    "plt.figure(figsize=(8,8))\n",
    "plt.pie(size_count,labels=['M','L','S','XL'],autopct='%0.0f%%',explode=(0,0,0,0.1))\n",
    "plt.legend( ['M','L','S','XL'],loc =1)\n",
    "plt.title('Size of the purchased item')\n",
    "plt.show()"
   ]
  },
  {
   "cell_type": "markdown",
   "id": "bc520385",
   "metadata": {},
   "source": [
    "The best-selling size is medium, followed by large"
   ]
  },
  {
   "cell_type": "markdown",
   "id": "8dc0a126",
   "metadata": {},
   "source": [
    "# Number of categories that are purchased in each season"
   ]
  },
  {
   "cell_type": "code",
   "execution_count": 41,
   "id": "f1292ee1",
   "metadata": {},
   "outputs": [
    {
     "data": {
      "text/html": [
       "<div>\n",
       "<style scoped>\n",
       "    .dataframe tbody tr th:only-of-type {\n",
       "        vertical-align: middle;\n",
       "    }\n",
       "\n",
       "    .dataframe tbody tr th {\n",
       "        vertical-align: top;\n",
       "    }\n",
       "\n",
       "    .dataframe thead th {\n",
       "        text-align: right;\n",
       "    }\n",
       "</style>\n",
       "<table border=\"1\" class=\"dataframe\">\n",
       "  <thead>\n",
       "    <tr style=\"text-align: right;\">\n",
       "      <th>Category</th>\n",
       "      <th>Accessories</th>\n",
       "      <th>Clothing</th>\n",
       "      <th>Footwear</th>\n",
       "      <th>Outerwear</th>\n",
       "    </tr>\n",
       "    <tr>\n",
       "      <th>Season</th>\n",
       "      <th></th>\n",
       "      <th></th>\n",
       "      <th></th>\n",
       "      <th></th>\n",
       "    </tr>\n",
       "  </thead>\n",
       "  <tbody>\n",
       "    <tr>\n",
       "      <th>Fall</th>\n",
       "      <td>324</td>\n",
       "      <td>427</td>\n",
       "      <td>136</td>\n",
       "      <td>88</td>\n",
       "    </tr>\n",
       "    <tr>\n",
       "      <th>Spring</th>\n",
       "      <td>301</td>\n",
       "      <td>454</td>\n",
       "      <td>163</td>\n",
       "      <td>81</td>\n",
       "    </tr>\n",
       "    <tr>\n",
       "      <th>Summer</th>\n",
       "      <td>312</td>\n",
       "      <td>408</td>\n",
       "      <td>160</td>\n",
       "      <td>75</td>\n",
       "    </tr>\n",
       "    <tr>\n",
       "      <th>Winter</th>\n",
       "      <td>303</td>\n",
       "      <td>448</td>\n",
       "      <td>140</td>\n",
       "      <td>80</td>\n",
       "    </tr>\n",
       "  </tbody>\n",
       "</table>\n",
       "</div>"
      ],
      "text/plain": [
       "Category  Accessories  Clothing  Footwear  Outerwear\n",
       "Season                                              \n",
       "Fall              324       427       136         88\n",
       "Spring            301       454       163         81\n",
       "Summer            312       408       160         75\n",
       "Winter            303       448       140         80"
      ]
     },
     "execution_count": 41,
     "metadata": {},
     "output_type": "execute_result"
    }
   ],
   "source": [
    "pd.crosstab(df['Season'],df['Category'])"
   ]
  },
  {
   "cell_type": "code",
   "execution_count": 42,
   "id": "4f0aa6c2",
   "metadata": {},
   "outputs": [
    {
     "data": {
      "text/plain": [
       "<AxesSubplot:xlabel='Season', ylabel='Count'>"
      ]
     },
     "execution_count": 42,
     "metadata": {},
     "output_type": "execute_result"
    },
    {
     "data": {
      "image/png": "[encoded data removed]",
      "text/plain": [
       "<Figure size 864x432 with 1 Axes>"
      ]
     },
     "metadata": {
      "needs_background": "light"
     },
     "output_type": "display_data"
    }
   ],
   "source": [
    "pd.crosstab(df['Season'],df['Category']).plot(kind='bar',figsize=(12,6),ylabel='Count')"
   ]
  },
  {
   "cell_type": "code",
   "execution_count": 43,
   "id": "e867fad0",
   "metadata": {},
   "outputs": [
    {
     "data": {
      "text/plain": [
       "<AxesSubplot:xlabel='Season', ylabel='count'>"
      ]
     },
     "execution_count": 43,
     "metadata": {},
     "output_type": "execute_result"
    },
    {
     "data": {
      "image/png": "[encoded data removed]",
      "text/plain": [
       "<Figure size 432x288 with 1 Axes>"
      ]
     },
     "metadata": {
      "needs_background": "light"
     },
     "output_type": "display_data"
    }
   ],
   "source": [
    "sns.countplot(data= df, x='Season')"
   ]
  },
  {
   "cell_type": "code",
   "execution_count": 44,
   "id": "cb3b5979",
   "metadata": {},
   "outputs": [
    {
     "data": {
      "text/plain": [
       "<AxesSubplot:xlabel='Category', ylabel='count'>"
      ]
     },
     "execution_count": 44,
     "metadata": {},
     "output_type": "execute_result"
    },
    {
     "data": {
      "image/png": "[encoded data removed]",
      "text/plain": [
       "<Figure size 432x288 with 1 Axes>"
      ]
     },
     "metadata": {
      "needs_background": "light"
     },
     "output_type": "display_data"
    }
   ],
   "source": [
    "sns.countplot(data= df, x='Category',hue='Gender')"
   ]
  },
  {
   "cell_type": "code",
   "execution_count": 46,
   "id": "e326b213",
   "metadata": {},
   "outputs": [],
   "source": [
    "def summary(data):\n",
    "    print(f'data shape : {df.shape}')\n",
    "    sum=pd.DataFrame(df.dtypes,columns=['data type'])\n",
    "    sum[\"Missing\"]=df.isnull().sum()\n",
    "    sum[\"%Missing\"]=(df.isnull().sum()/len(df))*100\n",
    "    sum['#unique']=df.nunique().values\n",
    "    desc=pd.DataFrame(df.describe(include=\"all\").transpose())\n",
    "    sum['min']=desc['min'].values\n",
    "    sum['max']=desc['max'].values\n",
    "    sum['first value']=df.loc[0].values\n",
    "    sum['second value']=df.loc[1].values\n",
    "    sum['Third value']=df.loc[2].values\n",
    "    \n",
    "    return sum"
   ]
  },
  {
   "cell_type": "code",
   "execution_count": 47,
   "id": "f6efeae0",
   "metadata": {},
   "outputs": [
    {
     "name": "stdout",
     "output_type": "stream",
     "text": [
      "data shape : (3900, 19)\n"
     ]
    },
    {
     "data": {
      "text/html": [
       "<div>\n",
       "<style scoped>\n",
       "    .dataframe tbody tr th:only-of-type {\n",
       "        vertical-align: middle;\n",
       "    }\n",
       "\n",
       "    .dataframe tbody tr th {\n",
       "        vertical-align: top;\n",
       "    }\n",
       "\n",
       "    .dataframe thead th {\n",
       "        text-align: right;\n",
       "    }\n",
       "</style>\n",
       "<table border=\"1\" class=\"dataframe\">\n",
       "  <thead>\n",
       "    <tr style=\"text-align: right;\">\n",
       "      <th></th>\n",
       "      <th>data type</th>\n",
       "      <th>Missing</th>\n",
       "      <th>%Missing</th>\n",
       "      <th>#unique</th>\n",
       "      <th>min</th>\n",
       "      <th>max</th>\n",
       "      <th>first value</th>\n",
       "      <th>second value</th>\n",
       "      <th>Third value</th>\n",
       "    </tr>\n",
       "  </thead>\n",
       "  <tbody>\n",
       "    <tr>\n",
       "      <th>Customer ID</th>\n",
       "      <td>int64</td>\n",
       "      <td>0</td>\n",
       "      <td>0.0</td>\n",
       "      <td>3900</td>\n",
       "      <td>1.0</td>\n",
       "      <td>3900.0</td>\n",
       "      <td>1</td>\n",
       "      <td>2</td>\n",
       "      <td>3</td>\n",
       "    </tr>\n",
       "    <tr>\n",
       "      <th>Age</th>\n",
       "      <td>int64</td>\n",
       "      <td>0</td>\n",
       "      <td>0.0</td>\n",
       "      <td>53</td>\n",
       "      <td>18.0</td>\n",
       "      <td>70.0</td>\n",
       "      <td>55</td>\n",
       "      <td>19</td>\n",
       "      <td>50</td>\n",
       "    </tr>\n",
       "    <tr>\n",
       "      <th>Gender</th>\n",
       "      <td>object</td>\n",
       "      <td>0</td>\n",
       "      <td>0.0</td>\n",
       "      <td>2</td>\n",
       "      <td>NaN</td>\n",
       "      <td>NaN</td>\n",
       "      <td>Male</td>\n",
       "      <td>Male</td>\n",
       "      <td>Male</td>\n",
       "    </tr>\n",
       "    <tr>\n",
       "      <th>Item Purchased</th>\n",
       "      <td>object</td>\n",
       "      <td>0</td>\n",
       "      <td>0.0</td>\n",
       "      <td>25</td>\n",
       "      <td>NaN</td>\n",
       "      <td>NaN</td>\n",
       "      <td>Blouse</td>\n",
       "      <td>Sweater</td>\n",
       "      <td>Jeans</td>\n",
       "    </tr>\n",
       "    <tr>\n",
       "      <th>Category</th>\n",
       "      <td>object</td>\n",
       "      <td>0</td>\n",
       "      <td>0.0</td>\n",
       "      <td>4</td>\n",
       "      <td>NaN</td>\n",
       "      <td>NaN</td>\n",
       "      <td>Clothing</td>\n",
       "      <td>Clothing</td>\n",
       "      <td>Clothing</td>\n",
       "    </tr>\n",
       "    <tr>\n",
       "      <th>Purchase Amount (USD)</th>\n",
       "      <td>int64</td>\n",
       "      <td>0</td>\n",
       "      <td>0.0</td>\n",
       "      <td>81</td>\n",
       "      <td>20.0</td>\n",
       "      <td>100.0</td>\n",
       "      <td>53</td>\n",
       "      <td>64</td>\n",
       "      <td>73</td>\n",
       "    </tr>\n",
       "    <tr>\n",
       "      <th>Location</th>\n",
       "      <td>object</td>\n",
       "      <td>0</td>\n",
       "      <td>0.0</td>\n",
       "      <td>50</td>\n",
       "      <td>NaN</td>\n",
       "      <td>NaN</td>\n",
       "      <td>Kentucky</td>\n",
       "      <td>Maine</td>\n",
       "      <td>Massachusetts</td>\n",
       "    </tr>\n",
       "    <tr>\n",
       "      <th>Size</th>\n",
       "      <td>object</td>\n",
       "      <td>0</td>\n",
       "      <td>0.0</td>\n",
       "      <td>4</td>\n",
       "      <td>NaN</td>\n",
       "      <td>NaN</td>\n",
       "      <td>L</td>\n",
       "      <td>L</td>\n",
       "      <td>S</td>\n",
       "    </tr>\n",
       "    <tr>\n",
       "      <th>Color</th>\n",
       "      <td>object</td>\n",
       "      <td>0</td>\n",
       "      <td>0.0</td>\n",
       "      <td>25</td>\n",
       "      <td>NaN</td>\n",
       "      <td>NaN</td>\n",
       "      <td>Gray</td>\n",
       "      <td>Maroon</td>\n",
       "      <td>Maroon</td>\n",
       "    </tr>\n",
       "    <tr>\n",
       "      <th>Season</th>\n",
       "      <td>object</td>\n",
       "      <td>0</td>\n",
       "      <td>0.0</td>\n",
       "      <td>4</td>\n",
       "      <td>NaN</td>\n",
       "      <td>NaN</td>\n",
       "      <td>Winter</td>\n",
       "      <td>Winter</td>\n",
       "      <td>Spring</td>\n",
       "    </tr>\n",
       "    <tr>\n",
       "      <th>Review Rating</th>\n",
       "      <td>float64</td>\n",
       "      <td>0</td>\n",
       "      <td>0.0</td>\n",
       "      <td>26</td>\n",
       "      <td>2.5</td>\n",
       "      <td>5.0</td>\n",
       "      <td>3.1</td>\n",
       "      <td>3.1</td>\n",
       "      <td>3.1</td>\n",
       "    </tr>\n",
       "    <tr>\n",
       "      <th>Subscription Status</th>\n",
       "      <td>object</td>\n",
       "      <td>0</td>\n",
       "      <td>0.0</td>\n",
       "      <td>2</td>\n",
       "      <td>NaN</td>\n",
       "      <td>NaN</td>\n",
       "      <td>Yes</td>\n",
       "      <td>Yes</td>\n",
       "      <td>Yes</td>\n",
       "    </tr>\n",
       "    <tr>\n",
       "      <th>Shipping Type</th>\n",
       "      <td>object</td>\n",
       "      <td>0</td>\n",
       "      <td>0.0</td>\n",
       "      <td>6</td>\n",
       "      <td>NaN</td>\n",
       "      <td>NaN</td>\n",
       "      <td>Express</td>\n",
       "      <td>Express</td>\n",
       "      <td>Free Shipping</td>\n",
       "    </tr>\n",
       "    <tr>\n",
       "      <th>Discount Applied</th>\n",
       "      <td>object</td>\n",
       "      <td>0</td>\n",
       "      <td>0.0</td>\n",
       "      <td>2</td>\n",
       "      <td>NaN</td>\n",
       "      <td>NaN</td>\n",
       "      <td>Yes</td>\n",
       "      <td>Yes</td>\n",
       "      <td>Yes</td>\n",
       "    </tr>\n",
       "    <tr>\n",
       "      <th>Promo Code Used</th>\n",
       "      <td>object</td>\n",
       "      <td>0</td>\n",
       "      <td>0.0</td>\n",
       "      <td>2</td>\n",
       "      <td>NaN</td>\n",
       "      <td>NaN</td>\n",
       "      <td>Yes</td>\n",
       "      <td>Yes</td>\n",
       "      <td>Yes</td>\n",
       "    </tr>\n",
       "    <tr>\n",
       "      <th>Previous Purchases</th>\n",
       "      <td>int64</td>\n",
       "      <td>0</td>\n",
       "      <td>0.0</td>\n",
       "      <td>50</td>\n",
       "      <td>1.0</td>\n",
       "      <td>50.0</td>\n",
       "      <td>14</td>\n",
       "      <td>2</td>\n",
       "      <td>23</td>\n",
       "    </tr>\n",
       "    <tr>\n",
       "      <th>Payment Method</th>\n",
       "      <td>object</td>\n",
       "      <td>0</td>\n",
       "      <td>0.0</td>\n",
       "      <td>6</td>\n",
       "      <td>NaN</td>\n",
       "      <td>NaN</td>\n",
       "      <td>Venmo</td>\n",
       "      <td>Cash</td>\n",
       "      <td>Credit Card</td>\n",
       "    </tr>\n",
       "    <tr>\n",
       "      <th>Frequency of Purchases</th>\n",
       "      <td>object</td>\n",
       "      <td>0</td>\n",
       "      <td>0.0</td>\n",
       "      <td>7</td>\n",
       "      <td>NaN</td>\n",
       "      <td>NaN</td>\n",
       "      <td>Fortnightly</td>\n",
       "      <td>Fortnightly</td>\n",
       "      <td>Weekly</td>\n",
       "    </tr>\n",
       "    <tr>\n",
       "      <th>Age_category</th>\n",
       "      <td>category</td>\n",
       "      <td>0</td>\n",
       "      <td>0.0</td>\n",
       "      <td>4</td>\n",
       "      <td>NaN</td>\n",
       "      <td>NaN</td>\n",
       "      <td>old</td>\n",
       "      <td>Young Adults</td>\n",
       "      <td>Middle-Aged Adults</td>\n",
       "    </tr>\n",
       "  </tbody>\n",
       "</table>\n",
       "</div>"
      ],
      "text/plain": [
       "                       data type  Missing  %Missing  #unique   min     max  \\\n",
       "Customer ID                int64        0       0.0     3900   1.0  3900.0   \n",
       "Age                        int64        0       0.0       53  18.0    70.0   \n",
       "Gender                    object        0       0.0        2   NaN     NaN   \n",
       "Item Purchased            object        0       0.0       25   NaN     NaN   \n",
       "Category                  object        0       0.0        4   NaN     NaN   \n",
       "Purchase Amount (USD)      int64        0       0.0       81  20.0   100.0   \n",
       "Location                  object        0       0.0       50   NaN     NaN   \n",
       "Size                      object        0       0.0        4   NaN     NaN   \n",
       "Color                     object        0       0.0       25   NaN     NaN   \n",
       "Season                    object        0       0.0        4   NaN     NaN   \n",
       "Review Rating            float64        0       0.0       26   2.5     5.0   \n",
       "Subscription Status       object        0       0.0        2   NaN     NaN   \n",
       "Shipping Type             object        0       0.0        6   NaN     NaN   \n",
       "Discount Applied          object        0       0.0        2   NaN     NaN   \n",
       "Promo Code Used           object        0       0.0        2   NaN     NaN   \n",
       "Previous Purchases         int64        0       0.0       50   1.0    50.0   \n",
       "Payment Method            object        0       0.0        6   NaN     NaN   \n",
       "Frequency of Purchases    object        0       0.0        7   NaN     NaN   \n",
       "Age_category            category        0       0.0        4   NaN     NaN   \n",
       "\n",
       "                        first value  second value         Third value  \n",
       "Customer ID                       1             2                   3  \n",
       "Age                              55            19                  50  \n",
       "Gender                         Male          Male                Male  \n",
       "Item Purchased               Blouse       Sweater               Jeans  \n",
       "Category                   Clothing      Clothing            Clothing  \n",
       "Purchase Amount (USD)            53            64                  73  \n",
       "Location                   Kentucky         Maine       Massachusetts  \n",
       "Size                              L             L                   S  \n",
       "Color                          Gray        Maroon              Maroon  \n",
       "Season                       Winter        Winter              Spring  \n",
       "Review Rating                   3.1           3.1                 3.1  \n",
       "Subscription Status             Yes           Yes                 Yes  \n",
       "Shipping Type               Express       Express       Free Shipping  \n",
       "Discount Applied                Yes           Yes                 Yes  \n",
       "Promo Code Used                 Yes           Yes                 Yes  \n",
       "Previous Purchases               14             2                  23  \n",
       "Payment Method                Venmo          Cash         Credit Card  \n",
       "Frequency of Purchases  Fortnightly   Fortnightly              Weekly  \n",
       "Age_category                    old  Young Adults  Middle-Aged Adults  "
      ]
     },
     "execution_count": 47,
     "metadata": {},
     "output_type": "execute_result"
    }
   ],
   "source": [
    "summary(df)"
   ]
  },
  {
   "cell_type": "code",
   "execution_count": 48,
   "id": "cbe39bc9",
   "metadata": {},
   "outputs": [
    {
     "data": {
      "image/png": "[encoded data removed]",
      "text/plain": [
       "<Figure size 576x288 with 1 Axes>"
      ]
     },
     "metadata": {
      "needs_background": "light"
     },
     "output_type": "display_data"
    }
   ],
   "source": [
    "plt.figure(figsize=(8, 4))\n",
    "plt.hist(df['Age'],edgecolor = 'black',alpha=0.7,bins=25,color = 'skyblue',density=True)\n",
    "df['Age'].plot(kind='kde', color = 'red')\n",
    "plt.xlabel('Age')\n",
    "plt.ylabel('Count / Density')\n",
    "plt.title('Age Distribution Histogram with Density Curve')\n",
    "plt.legend(['Density Curve', 'Histogram'])\n",
    "plt.show()"
   ]
  },
  {
   "cell_type": "code",
   "execution_count": 49,
   "id": "fda6a472",
   "metadata": {},
   "outputs": [
    {
     "data": {
      "image/png": "[encoded data removed]",
      "text/plain": [
       "<Figure size 1584x360 with 1 Axes>"
      ]
     },
     "metadata": {
      "needs_background": "light"
     },
     "output_type": "display_data"
    }
   ],
   "source": [
    "plt.figure(figsize=(22,5))\n",
    "sns.countplot(data=df,x='Item Purchased',hue='Gender',palette='Set2')\n",
    "plt.title('Item Purchased Distribution by Gender')\n",
    "plt.show()"
   ]
  },
  {
   "cell_type": "code",
   "execution_count": 50,
   "id": "f5587cc7",
   "metadata": {},
   "outputs": [
    {
     "data": {
      "image/png": "[encoded data removed]",
      "text/plain": [
       "<Figure size 1440x360 with 1 Axes>"
      ]
     },
     "metadata": {
      "needs_background": "light"
     },
     "output_type": "display_data"
    }
   ],
   "source": [
    "plt.figure(figsize=(20,5))\n",
    "ax=sns.countplot(data = df,x='Color',hue='Gender',palette='Set3')\n",
    "for p in ax.patches:\n",
    "    ax.annotate(f'{p.get_height()}', (p.get_x() + p.get_width() / 2., p.get_height()), ha='center', va='center', fontsize=9, color='black', xytext=(0, 5), textcoords='offset points')\n",
    "plt.xlabel('Color', fontsize=14)\n",
    "plt.ylabel('Count', fontsize=14)\n",
    "plt.title('Color Distribution by Gender', fontsize=16)\n",
    "plt.legend(title='Gender', fontsize=8, title_fontsize=8)\n",
    "plt.show()"
   ]
  },
  {
   "cell_type": "code",
   "execution_count": 51,
   "id": "cb2ff7d7",
   "metadata": {},
   "outputs": [
    {
     "data": {
      "image/png": "[encoded data removed]",
      "text/plain": [
       "<Figure size 1440x432 with 1 Axes>"
      ]
     },
     "metadata": {
      "needs_background": "light"
     },
     "output_type": "display_data"
    }
   ],
   "source": [
    "plt.figure(figsize=(20, 6))\n",
    "sns.violinplot(x='Category', y='Review Rating', data=df)\n",
    "plt.title('Review Rating by Category')\n",
    "plt.xlabel('Category')\n",
    "plt.ylabel('Review Rating')\n",
    "plt.xticks(rotation=45,fontsize=12)\n",
    "plt.show()"
   ]
  },
  {
   "cell_type": "code",
   "execution_count": 52,
   "id": "90cc3e94",
   "metadata": {},
   "outputs": [],
   "source": [
    "colors = [\"#89CFF0\", \"#FF69B4\", \"#FFD700\", \"#7B68EE\", \"#FF4500\",\n",
    "          \"#9370DB\", \"#32CD32\", \"#8A2BE2\", \"#FF6347\", \"#20B2AA\",\n",
    "          \"#FF69B4\", \"#00CED1\", \"#FF7F50\", \"#7FFF00\", \"#DA70D6\"]"
   ]
  },
  {
   "cell_type": "code",
   "execution_count": 53,
   "id": "04e63a08",
   "metadata": {},
   "outputs": [
    {
     "data": {
      "image/png": "[encoded data removed]",
      "text/plain": [
       "<Figure size 432x288 with 1 Axes>"
      ]
     },
     "metadata": {},
     "output_type": "display_data"
    }
   ],
   "source": [
    "count=df['Season'].value_counts()\n",
    "count\n",
    "\n",
    "count.plot(kind='pie',colors=colors,fontsize=12,explode=(0,0.1,0,0.1),autopct='%1.1f%%')\n",
    "plt.show()"
   ]
  },
  {
   "cell_type": "code",
   "execution_count": 54,
   "id": "cd7602b2",
   "metadata": {},
   "outputs": [
    {
     "data": {
      "image/png": "[encoded data removed]",
      "text/plain": [
       "<Figure size 432x288 with 1 Axes>"
      ]
     },
     "metadata": {
      "needs_background": "light"
     },
     "output_type": "display_data"
    }
   ],
   "source": [
    "sns.countplot(data=df,y='Gender',hue='Subscription Status')\n",
    "plt.title('Subscription Status by Gender')\n",
    "plt.show()"
   ]
  },
  {
   "cell_type": "code",
   "execution_count": 55,
   "id": "12079f95",
   "metadata": {},
   "outputs": [
    {
     "data": {
      "text/plain": [
       "<AxesSubplot:xlabel='Category', ylabel='count'>"
      ]
     },
     "execution_count": 55,
     "metadata": {},
     "output_type": "execute_result"
    },
    {
     "data": {
      "image/png": "[encoded data removed]",
      "text/plain": [
       "<Figure size 576x432 with 1 Axes>"
      ]
     },
     "metadata": {
      "needs_background": "light"
     },
     "output_type": "display_data"
    }
   ],
   "source": [
    "plt.figure(figsize=(8,6))\n",
    "sns.countplot(data=df,x='Category',hue='Promo Code Used')"
   ]
  },
  {
   "cell_type": "markdown",
   "id": "94e293dd",
   "metadata": {},
   "source": [
    " "
   ]
  }
 ],
 "metadata": {
  "kernelspec": {
   "display_name": "Python 3 (ipykernel)",
   "language": "python",
   "name": "python3"
  },
  "language_info": {
   "codemirror_mode": {
    "name": "ipython",
    "version": 3
   },
   "file_extension": ".py",
   "mimetype": "text/x-python",
   "name": "python",
   "nbconvert_exporter": "python",
   "pygments_lexer": "ipython3",
   "version": "3.9.7"
  }
 },
 "nbformat": 4,
 "nbformat_minor": 5
}
